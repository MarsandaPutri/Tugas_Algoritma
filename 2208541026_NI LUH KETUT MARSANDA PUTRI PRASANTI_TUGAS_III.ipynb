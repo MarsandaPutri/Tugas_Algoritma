{
 "cells": [
  {
   "cell_type": "code",
   "execution_count": 4,
   "id": "ce7057f8",
   "metadata": {},
   "outputs": [],
   "source": [
    "#%%%%%%%%%%%%%%%%%%%%%%%%%%%%%%%%%%%%%%%%%%%%%%%%%%%%%%%%%%%%%%%%%%%%%%%%%%%%%%%%%%%%%%%%%%%%%%%%%%%%%%%%%%%%%%%%%%%%%%%%%%%%%%\n",
    "#Strings Index\n",
    "#%%%%%%%%%%%%%%%%%%%%%%%%%%%%%%%%%%%%%%%%%%%%%%%%%%%%%%%%%%%%%%%%%%%%%%%%%%%%%%%%%%%%%%%%%%%%%%%%%%%%%%%%%%%%%%%%%%%%%%%%%%%%%%\n",
    "\n",
    "kelas = 'ini kelas algoritma'\n",
    "\n",
    "#Percobaan 1 String Index\n",
    "#Di sini, huruf-huruf disimbolkan dengan menggunakan angka mulai dari 0 sampai seterusnya.\n",
    "#Huruf pertama disimbolkan dengan angka 0, huruf kedua disimbolkan dengan angka 1, dst.\n",
    "#Huruf terakhir disimbolkan dengan angka -1, huruf terakhir kedua disimbolkan dengan angka -2, dst."
   ]
  },
  {
   "cell_type": "code",
   "execution_count": 15,
   "id": "74039b8e",
   "metadata": {},
   "outputs": [
    {
     "name": "stdout",
     "output_type": "stream",
     "text": [
      "ini k\n"
     ]
    }
   ],
   "source": [
    "print(kelas[0:5])\n",
    "\n",
    "#Percobaan 2 String Index\n",
    "#Karena angka pertama merupakan simbol untuk huruf pertama, maka dalam kasus ini angka 0 adalah huruf i.\n",
    "#Kemudian angka 1 untuk huruf n, angka 2 untuk huruf i, angka 3 untuk spasi, dst.\n",
    "#Angka 5 pada [0:5] adalah batas untuk output dan tidak akan keluar di output.\n",
    "#Jadi, jika ada batas [0:5], maka itu berarti mulai dari huruf dengan simbol 0 sampai huruf dengan simbol 4. "
   ]
  },
  {
   "cell_type": "code",
   "execution_count": 6,
   "id": "2c7dc595",
   "metadata": {},
   "outputs": [
    {
     "name": "stdout",
     "output_type": "stream",
     "text": [
      "elas algoritm\n"
     ]
    }
   ],
   "source": [
    "print(kelas[5:-1])\n",
    "\n",
    "#Percobaan 3 String Index\n",
    "#Batas ini berarti berawal dari huruf dengan simbol 5 sampai huruf dengan simbol -2."
   ]
  },
  {
   "cell_type": "code",
   "execution_count": 7,
   "id": "0c079d4c",
   "metadata": {},
   "outputs": [
    {
     "name": "stdout",
     "output_type": "stream",
     "text": [
      "ieslrm\n"
     ]
    }
   ],
   "source": [
    "print(kelas[2:-1:3])\n",
    "\n",
    "#Percobaan 4 String Index\n",
    "#Batas ini berarti berawal dari huruf dengan simbol 2 sampai huruf dengan simbol -2.\n",
    "#Angka 3 pada [2:-1:3] berarti data tersebut dilompati 3 kali."
   ]
  },
  {
   "cell_type": "code",
   "execution_count": 8,
   "id": "ff00bb56",
   "metadata": {},
   "outputs": [
    {
     "name": "stdout",
     "output_type": "stream",
     "text": [
      "ini kelas algori\n"
     ]
    }
   ],
   "source": [
    "print(kelas[:-3])\n",
    "\n",
    "#Percobaan 5 String Index\n",
    "#Batas ini berarti dimulai dari awal dan berakhir di huruf dengan simbol -4."
   ]
  },
  {
   "cell_type": "code",
   "execution_count": 9,
   "id": "0b70cd68",
   "metadata": {},
   "outputs": [
    {
     "name": "stdout",
     "output_type": "stream",
     "text": [
      "ni kelas algoritma\n"
     ]
    }
   ],
   "source": [
    "print(kelas[1:])\n",
    "\n",
    "#Percobaan 6 String Index\n",
    "#Batas ini berarti dimulai dari huruf dengan simbol 1 sampai akhir."
   ]
  },
  {
   "cell_type": "code",
   "execution_count": 10,
   "id": "50eeaaf8",
   "metadata": {},
   "outputs": [
    {
     "name": "stdout",
     "output_type": "stream",
     "text": [
      "ini kelas algoritma\n"
     ]
    }
   ],
   "source": [
    "print(kelas[:])\n",
    "\n",
    "#Percobaan 7 String Index\n",
    "#Batas ini berarti dimulai dari awal sampai akhir (secara keseluruhan)."
   ]
  },
  {
   "cell_type": "code",
   "execution_count": 16,
   "id": "e1ea3730",
   "metadata": {},
   "outputs": [
    {
     "ename": "SyntaxError",
     "evalue": "invalid syntax (3895172033.py, line 1)",
     "output_type": "error",
     "traceback": [
      "\u001b[1;36m  File \u001b[1;32m\"C:\\Users\\62819\\AppData\\Local\\Temp\\ipykernel_24388\\3895172033.py\"\u001b[1;36m, line \u001b[1;32m1\u001b[0m\n\u001b[1;33m    print(kelas[])\u001b[0m\n\u001b[1;37m                ^\u001b[0m\n\u001b[1;31mSyntaxError\u001b[0m\u001b[1;31m:\u001b[0m invalid syntax\n"
     ]
    }
   ],
   "source": [
    "print(kelas[])\n",
    "\n",
    "#Percobaan 8 String Index\n",
    "#Error karena tidak ada batas yang diinginkan."
   ]
  },
  {
   "cell_type": "code",
   "execution_count": 21,
   "id": "10b88334",
   "metadata": {},
   "outputs": [
    {
     "name": "stdout",
     "output_type": "stream",
     "text": [
      "\n"
     ]
    }
   ],
   "source": [
    "print(kelas[-1:6])\n",
    "\n",
    "#Percobaan 9 String Index\n",
    "#Tidak ada output yang dihasilkan karena batas awal dimulai dari belakang sehingga tidak bisa di run."
   ]
  },
  {
   "cell_type": "code",
   "execution_count": 19,
   "id": "af663434",
   "metadata": {},
   "outputs": [
    {
     "ename": "SyntaxError",
     "evalue": "invalid syntax (923923410.py, line 1)",
     "output_type": "error",
     "traceback": [
      "\u001b[1;36m  File \u001b[1;32m\"C:\\Users\\62819\\AppData\\Local\\Temp\\ipykernel_24388\\923923410.py\"\u001b[1;36m, line \u001b[1;32m1\u001b[0m\n\u001b[1;33m    print(kelas[2:-4:2:2])\u001b[0m\n\u001b[1;37m                      ^\u001b[0m\n\u001b[1;31mSyntaxError\u001b[0m\u001b[1;31m:\u001b[0m invalid syntax\n"
     ]
    }
   ],
   "source": [
    "print(kelas[2:-4:2:2])\n",
    "\n",
    "#Percobaan 10 String Index\n",
    "#Tidak bisa memiliki 4 buah ikon untuk batas karena ikon pertama merupakan batas awal, ikon kedua merupakan batas akhir,\n",
    "#ikon ketiga merupakan jumlah loncatan, dan ikon keempat tidak memiliki arti."
   ]
  },
  {
   "cell_type": "code",
   "execution_count": 23,
   "id": "9219b9ae",
   "metadata": {},
   "outputs": [],
   "source": [
    "#%%%%%%%%%%%%%%%%%%%%%%%%%%%%%%%%%%%%%%%%%%%%%%%%%%%%%%%%%%%%%%%%%%%%%%%%%%%%%%%%%%%%%%%%%%%%%%%%%%%%%%%%%%%%%%%%%%%%%%%%%%%%%%\n",
    "#Strings Methods\n",
    "#%%%%%%%%%%%%%%%%%%%%%%%%%%%%%%%%%%%%%%%%%%%%%%%%%%%%%%%%%%%%%%%%%%%%%%%%%%%%%%%%%%%%%%%%%%%%%%%%%%%%%%%%%%%%%%%%%%%%%%%%%%%%%%\n",
    "\n",
    "judul = 'Bali Surga Dunia'\n",
    "\n",
    "#Percobaan 1 String Methods\n",
    "#Penamaan huruf dengan menggunakan simbol angka sama seperti sebelumnya, yaitu huruf pertama dimulai dengan angka 0, dst."
   ]
  },
  {
   "cell_type": "code",
   "execution_count": 24,
   "id": "a63214cb",
   "metadata": {},
   "outputs": [
    {
     "name": "stdout",
     "output_type": "stream",
     "text": [
      "16\n"
     ]
    }
   ],
   "source": [
    "print(len(judul))\n",
    "\n",
    "#Percobaan 2 String Methods\n",
    "#Metode ini digunakan untuk menghitung berapa jumlah huruf yang ada pada variabel tersebut."
   ]
  },
  {
   "cell_type": "code",
   "execution_count": 25,
   "id": "e9db9965",
   "metadata": {},
   "outputs": [
    {
     "data": {
      "text/plain": [
       "'BALI SURGA DUNIA'"
      ]
     },
     "execution_count": 25,
     "metadata": {},
     "output_type": "execute_result"
    }
   ],
   "source": [
    "judul.upper()\n",
    "\n",
    "#Percobaan 3 String Methods\n",
    "#Metode ini digunakan untuk mengubah format huruf menjadi huruf kapital."
   ]
  },
  {
   "cell_type": "code",
   "execution_count": 26,
   "id": "69b3a5c9",
   "metadata": {},
   "outputs": [
    {
     "data": {
      "text/plain": [
       "'bali surga dunia'"
      ]
     },
     "execution_count": 26,
     "metadata": {},
     "output_type": "execute_result"
    }
   ],
   "source": [
    "judul.lower()\n",
    "\n",
    "#Percobaan 4 String Methods\n",
    "#Metode ini digunakan untuk mengubah format huruf menjadi huruf kecil."
   ]
  },
  {
   "cell_type": "code",
   "execution_count": 36,
   "id": "2c80be9d",
   "metadata": {},
   "outputs": [
    {
     "data": {
      "text/plain": [
       "11"
      ]
     },
     "execution_count": 36,
     "metadata": {},
     "output_type": "execute_result"
    }
   ],
   "source": [
    "judul.find('Dunia')\n",
    "\n",
    "#Percobaan 5 String Methods\n",
    "#Metode ini digunakan untuk mengetahui kata 'Dunia' tersebut berada pada huruf ke berapa, \n",
    "#dengan menggunakan simbol angka seperti sebelumnya. \n",
    "#Namun yang dimaksud disini adalah letak ke berapakah huruf pertama kata tersebut."
   ]
  },
  {
   "cell_type": "code",
   "execution_count": 30,
   "id": "ee2d68fd",
   "metadata": {},
   "outputs": [
    {
     "data": {
      "text/plain": [
       "-1"
      ]
     },
     "execution_count": 30,
     "metadata": {},
     "output_type": "execute_result"
    }
   ],
   "source": [
    "judul.find('bali')\n",
    "\n",
    "#Percobaan 6 String Methods\n",
    "#Kata 'bali' tidak ada pada variabel karena huruf b pada kata 'bali' menggunakan huruf kecil.\n",
    "#Sedangkan pada variabel didefinisikan dengan menggunakan huruf kapital."
   ]
  },
  {
   "cell_type": "code",
   "execution_count": 31,
   "id": "4ff94ea5",
   "metadata": {},
   "outputs": [
    {
     "data": {
      "text/plain": [
       "'Indonesia Surga Dunia'"
      ]
     },
     "execution_count": 31,
     "metadata": {},
     "output_type": "execute_result"
    }
   ],
   "source": [
    "judul.replace('Bali',\"Indonesia\")\n",
    "\n",
    "#Percobaan 7 String Methods\n",
    "#Metode ini digunakan untuk mengganti kata pertama menjadi kata kedua.\n",
    "#Seperti pada kasus ini dimana kata 'Bali' diganti dengan menggunakan kata 'Indonesia'."
   ]
  },
  {
   "cell_type": "code",
   "execution_count": 32,
   "id": "150da069",
   "metadata": {},
   "outputs": [
    {
     "data": {
      "text/plain": [
       "'Bali Surga Dunia'"
      ]
     },
     "execution_count": 32,
     "metadata": {},
     "output_type": "execute_result"
    }
   ],
   "source": [
    "judul.replace('bali','Indonesia')\n",
    "\n",
    "#Percobaan 8 String Methods\n",
    "#Pada kasus ini, huruf b pada kata 'bali' menggunakan huruf kecil, sedangkan pada variabel dituliskan menggunakan huruf kapital.\n",
    "#Itulah sebabnya kata tersebut tidak dapat diubah dan menghasilkan output yang sama seperti awalnya."
   ]
  },
  {
   "cell_type": "code",
   "execution_count": 33,
   "id": "180bc183",
   "metadata": {},
   "outputs": [
    {
     "name": "stdout",
     "output_type": "stream",
     "text": [
      "True\n"
     ]
    }
   ],
   "source": [
    "print('Bali' in judul)\n",
    "\n",
    "#Percobaan 9 String Methods\n",
    "#Metode ini digunakan untuk mencari sebuah kata, apakah kata tersebut berada pada variabel atau tidak.\n",
    "#Sama seperti tipe data boolean dimana akan menghasilkan 2 kemungkinan yaitu true atau false."
   ]
  },
  {
   "cell_type": "code",
   "execution_count": 34,
   "id": "fe7c015d",
   "metadata": {},
   "outputs": [
    {
     "name": "stdout",
     "output_type": "stream",
     "text": [
      "False\n"
     ]
    }
   ],
   "source": [
    "print('bali' in judul)\n",
    "\n",
    "#Percobaan 10 String Methods\n",
    "#Pada kasus ini, kata 'bali' tidak ada dalam variabel karena huruf b pada kata tersebut didefinisikan menggunakan huruf kapital.\n",
    "#Itulah sebabnya percobaan ini menghasilkan output false."
   ]
  },
  {
   "cell_type": "code",
   "execution_count": 2,
   "id": "f4365e56",
   "metadata": {},
   "outputs": [
    {
     "name": "stdout",
     "output_type": "stream",
     "text": [
      "14\n"
     ]
    }
   ],
   "source": [
    "#%%%%%%%%%%%%%%%%%%%%%%%%%%%%%%%%%%%%%%%%%%%%%%%%%%%%%%%%%%%%%%%%%%%%%%%%%%%%%%%%%%%%%%%%%%%%%%%%%%%%%%%%%%%%%%%%%%%%%%%%%%%%%%\n",
    "#Operasi Matematika\n",
    "#%%%%%%%%%%%%%%%%%%%%%%%%%%%%%%%%%%%%%%%%%%%%%%%%%%%%%%%%%%%%%%%%%%%%%%%%%%%%%%%%%%%%%%%%%%%%%%%%%%%%%%%%%%%%%%%%%%%%%%%%%%%%%%\n",
    "\n",
    "print(2+3+4+5)\n",
    "\n",
    "#Percobaan 1 Operasi Matematika\n",
    "#Metode ini digunakan untuk menjumlahkan beberapa angka."
   ]
  },
  {
   "cell_type": "code",
   "execution_count": 3,
   "id": "ca97612e",
   "metadata": {},
   "outputs": [
    {
     "name": "stdout",
     "output_type": "stream",
     "text": [
      "1\n"
     ]
    }
   ],
   "source": [
    "print(2-3+4-2)\n",
    "\n",
    "#Percobaan 2 Operasi Matematika\n",
    "#Metode seperti ini juga dapat digunakan dengan menggabungkan pengurangan dan penjumlahan."
   ]
  },
  {
   "cell_type": "code",
   "execution_count": 4,
   "id": "ec2be4bc",
   "metadata": {},
   "outputs": [
    {
     "name": "stdout",
     "output_type": "stream",
     "text": [
      "54\n"
     ]
    }
   ],
   "source": [
    "print(2*3*9)\n",
    "\n",
    "#Percobaan 3 Operasi Matematika\n",
    "#Tanda (*) pada metode ini digunakan untuk mengalikan beberapa angka."
   ]
  },
  {
   "cell_type": "code",
   "execution_count": 6,
   "id": "19281531",
   "metadata": {},
   "outputs": [
    {
     "name": "stdout",
     "output_type": "stream",
     "text": [
      "10.0\n"
     ]
    }
   ],
   "source": [
    "print(9/3*3+1)\n",
    "\n",
    "#Percobaan 4 Operasi Matematika\n",
    "#Tanda (/) pada metode ini digunakan untuk pembagian.\n",
    "#Kita juga dapat menggabungkan beberapa operasi dalam satu program. \n",
    "#Pada kasus ini, output yang dihasilkan berupa bilangan desimal.\n",
    "#Hal ini mungkin dikarenakan tipe data yang digunakan adalah float, \n",
    "#atau mungkin karena operasi awal pada program tersebut adalah pembagian sehingga output yg dihasilkan berupa bilangan desimal."
   ]
  },
  {
   "cell_type": "code",
   "execution_count": 41,
   "id": "584eb62b",
   "metadata": {},
   "outputs": [
    {
     "name": "stdout",
     "output_type": "stream",
     "text": [
      "2\n"
     ]
    }
   ],
   "source": [
    "print(7//3)\n",
    "\n",
    "#Percobaan 5 Operasi Matematika\n",
    "#Tanda (//) pada metode ini digunakan untuk membulatkan hasil dari pembagian bilangan tersebut."
   ]
  },
  {
   "cell_type": "code",
   "execution_count": 42,
   "id": "29ea205c",
   "metadata": {},
   "outputs": [
    {
     "name": "stdout",
     "output_type": "stream",
     "text": [
      "1\n"
     ]
    }
   ],
   "source": [
    "print(7%3)\n",
    "\n",
    "#Percobaan 6 Operasi Matematika\n",
    "#Tanda (%) pada metode ini merupakan modulo. "
   ]
  },
  {
   "cell_type": "code",
   "execution_count": 9,
   "id": "f31b656f",
   "metadata": {},
   "outputs": [
    {
     "name": "stdout",
     "output_type": "stream",
     "text": [
      "512\n"
     ]
    }
   ],
   "source": [
    "print(2**3**2)\n",
    "\n",
    "#Percobaan 7 Operasi Matematika\n",
    "#Tanda (**) pada metode ini digunakan untuk simbol perpangkatan.\n",
    "#Dalam kasus ini, 3 pangkat 2 pada baris akhir merupakan pangkat dari 2 sehingga dapat disederhanakan menjadi 2 pangkat 9."
   ]
  },
  {
   "cell_type": "code",
   "execution_count": 47,
   "id": "c4c4692c",
   "metadata": {},
   "outputs": [
    {
     "name": "stdout",
     "output_type": "stream",
     "text": [
      "4\n"
     ]
    }
   ],
   "source": [
    "x=3\n",
    "x+=1\n",
    "print(x)\n",
    "\n",
    "#Percobaan 8 Operasi Matematika\n",
    "#Tanda (+=) pada metode ini digunakan untuk menambahkan variabel yang sudah didefinisikan sebelumnya dengan angka yang baru."
   ]
  },
  {
   "cell_type": "code",
   "execution_count": 48,
   "id": "409bee7c",
   "metadata": {},
   "outputs": [
    {
     "name": "stdout",
     "output_type": "stream",
     "text": [
      "2\n"
     ]
    }
   ],
   "source": [
    "x-=2\n",
    "print(x)\n",
    "\n",
    "#Percobaan 9 Operasi Matematika\n",
    "#Tanda (-=) pada metode ini digunakan untuk mengurangkan variabel sebelumnya.\n",
    "#Dan karena pada program ini tidak didefinisikan berapa variabelnya, \n",
    "#maka komputer secara otomatis akan menggunakan data sebelumnya yaitu x=4 seperti pada output percobaan 8."
   ]
  },
  {
   "cell_type": "code",
   "execution_count": 50,
   "id": "2b082275",
   "metadata": {},
   "outputs": [
    {
     "name": "stdout",
     "output_type": "stream",
     "text": [
      "6\n"
     ]
    }
   ],
   "source": [
    "x*=3\n",
    "print(x)\n",
    "\n",
    "#Percobaan 10 Operasi Matematika\n",
    "#Tanda (*=) pada metode ini digunakan untuk mengalikan variabel sebelumnya."
   ]
  },
  {
   "cell_type": "code",
   "execution_count": 10,
   "id": "41b461a1",
   "metadata": {},
   "outputs": [
    {
     "ename": "NameError",
     "evalue": "name 'x' is not defined",
     "output_type": "error",
     "traceback": [
      "\u001b[1;31m---------------------------------------------------------------------------\u001b[0m",
      "\u001b[1;31mNameError\u001b[0m                                 Traceback (most recent call last)",
      "\u001b[1;32m~\\AppData\\Local\\Temp\\ipykernel_20812\\342343179.py\u001b[0m in \u001b[0;36m<module>\u001b[1;34m\u001b[0m\n\u001b[1;32m----> 1\u001b[1;33m \u001b[0mx\u001b[0m\u001b[1;33m/=\u001b[0m\u001b[1;36m2\u001b[0m\u001b[1;33m\u001b[0m\u001b[1;33m\u001b[0m\u001b[0m\n\u001b[0m\u001b[0;32m      2\u001b[0m \u001b[0mprint\u001b[0m\u001b[1;33m(\u001b[0m\u001b[0mx\u001b[0m\u001b[1;33m)\u001b[0m\u001b[1;33m\u001b[0m\u001b[1;33m\u001b[0m\u001b[0m\n",
      "\u001b[1;31mNameError\u001b[0m: name 'x' is not defined"
     ]
    }
   ],
   "source": [
    "x/=2\n",
    "print(x)\n",
    "\n",
    "#Percobaan 11 Operasi Matematika\n",
    "#Jika pada metode sebelumnya terdapat program untuk menambahkan, mengurangkan, ataupun mengalikan, \n",
    "#maka untuk pembagian sendiri tidak bisa dijalankan karena akan menghasilan error."
   ]
  },
  {
   "cell_type": "code",
   "execution_count": 51,
   "id": "34554b16",
   "metadata": {},
   "outputs": [
    {
     "name": "stdout",
     "output_type": "stream",
     "text": [
      "True\n"
     ]
    }
   ],
   "source": [
    "#%%%%%%%%%%%%%%%%%%%%%%%%%%%%%%%%%%%%%%%%%%%%%%%%%%%%%%%%%%%%%%%%%%%%%%%%%%%%%%%%%%%%%%%%%%%%%%%%%%%%%%%%%%%%%%%%%%%%%%%%%%%%%%\n",
    "#Operator Perbandingan\n",
    "#%%%%%%%%%%%%%%%%%%%%%%%%%%%%%%%%%%%%%%%%%%%%%%%%%%%%%%%%%%%%%%%%%%%%%%%%%%%%%%%%%%%%%%%%%%%%%%%%%%%%%%%%%%%%%%%%%%%%%%%%%%%%%%\n",
    "\n",
    "x = 3>2\n",
    "print(x)\n",
    "\n",
    "#Percobaan 1 Operator Perbandingan\n",
    "#Metode ini digunakan untuk perbandingan lebih besar dari (>) yang akan menghasilkan true atau false."
   ]
  },
  {
   "cell_type": "code",
   "execution_count": 52,
   "id": "595a7b5f",
   "metadata": {},
   "outputs": [
    {
     "name": "stdout",
     "output_type": "stream",
     "text": [
      "True\n"
     ]
    }
   ],
   "source": [
    "x = 2<3\n",
    "print(x)\n",
    "\n",
    "#Percobaan 2 Operator Perbandingan\n",
    "#Metode ini digunakan untuk perbandingan kurang dari (<) yang akan menghasilkan true atau false."
   ]
  },
  {
   "cell_type": "code",
   "execution_count": 53,
   "id": "adde6473",
   "metadata": {},
   "outputs": [
    {
     "name": "stdout",
     "output_type": "stream",
     "text": [
      "True\n"
     ]
    }
   ],
   "source": [
    "x = 3 >= 2\n",
    "print(x)\n",
    "\n",
    "#Percobaan 3 Operator Perbandingan\n",
    "#Tanda (>=) pada metode ini digunakan untuk perbandingan lebih besar dari atau sama dengan, dan menghasilkan true atau false."
   ]
  },
  {
   "cell_type": "code",
   "execution_count": 54,
   "id": "836da862",
   "metadata": {},
   "outputs": [
    {
     "name": "stdout",
     "output_type": "stream",
     "text": [
      "True\n"
     ]
    }
   ],
   "source": [
    "x = 2 <= 3\n",
    "print(x)\n",
    "\n",
    "#Percobaan 4 Operator Perbandingan\n",
    "#Tanda (<=) pada metode ini digunakan untuk perbandingan kurang dari atau sama dengan, dan menghasilkan true atau false."
   ]
  },
  {
   "cell_type": "code",
   "execution_count": 55,
   "id": "339f474c",
   "metadata": {},
   "outputs": [
    {
     "name": "stdout",
     "output_type": "stream",
     "text": [
      "True\n"
     ]
    }
   ],
   "source": [
    "x = 3 == 3\n",
    "print(x)\n",
    "\n",
    "#Percobaan 5 Operator Perbandingan\n",
    "#Tanda (==) pada metode ini digunakan untuk perbandingan apakah kedua variabel bernilai sama, dan menghasilkan true atau false."
   ]
  },
  {
   "cell_type": "code",
   "execution_count": 56,
   "id": "f3b0a585",
   "metadata": {},
   "outputs": [
    {
     "name": "stdout",
     "output_type": "stream",
     "text": [
      "True\n"
     ]
    }
   ],
   "source": [
    "x = 3 != 4\n",
    "print(x)\n",
    "\n",
    "#Percobaan 6 Operator Perbandingan\n",
    "#Tanda (!=) pd metode ini digunakan utk perbandingan apakah kedua variabel tidak bernilai sama, dan menghasilkan true atau false."
   ]
  },
  {
   "cell_type": "code",
   "execution_count": 57,
   "id": "0ae543d3",
   "metadata": {},
   "outputs": [
    {
     "name": "stdout",
     "output_type": "stream",
     "text": [
      "False\n"
     ]
    }
   ],
   "source": [
    "x = 2>3\n",
    "print(x)\n",
    "\n",
    "#Percobaan 7 Operator Perbandingan\n",
    "#Percobaan ini sebagai pembanding pada percobaan awal."
   ]
  },
  {
   "cell_type": "code",
   "execution_count": 58,
   "id": "b199b6c5",
   "metadata": {},
   "outputs": [
    {
     "name": "stdout",
     "output_type": "stream",
     "text": [
      "False\n"
     ]
    }
   ],
   "source": [
    "x = 3<2\n",
    "print(x)\n",
    "\n",
    "#Percobaan 8 Operator Perbandingan\n",
    "#Percobaan ini sebagai pembanding pada percobaan awal."
   ]
  },
  {
   "cell_type": "code",
   "execution_count": 59,
   "id": "2793f51b",
   "metadata": {},
   "outputs": [
    {
     "name": "stdout",
     "output_type": "stream",
     "text": [
      "False\n"
     ]
    }
   ],
   "source": [
    "x = 2 >= 3\n",
    "print(x)\n",
    "\n",
    "#Percobaan 9 Operator Perbandingan\n",
    "#Percobaan ini sebagai pembanding pada percobaan awal."
   ]
  },
  {
   "cell_type": "code",
   "execution_count": 60,
   "id": "d9078f83",
   "metadata": {},
   "outputs": [
    {
     "name": "stdout",
     "output_type": "stream",
     "text": [
      "False\n"
     ]
    }
   ],
   "source": [
    "x = 3 <= 2\n",
    "print(x)\n",
    "\n",
    "#Percobaan 10 Operator Perbandingan\n",
    "#Percobaan ini sebagai pembanding pada percobaan awal."
   ]
  },
  {
   "cell_type": "code",
   "execution_count": 61,
   "id": "3860d255",
   "metadata": {},
   "outputs": [
    {
     "name": "stdout",
     "output_type": "stream",
     "text": [
      "False\n"
     ]
    }
   ],
   "source": [
    "x = 3 == 4\n",
    "print(x)\n",
    "\n",
    "#Percobaan 11 Operator Perbandingan\n",
    "#Percobaan ini sebagai pembanding pada percobaan awal."
   ]
  },
  {
   "cell_type": "code",
   "execution_count": 65,
   "id": "ab073b58",
   "metadata": {},
   "outputs": [
    {
     "name": "stdout",
     "output_type": "stream",
     "text": [
      "False\n"
     ]
    }
   ],
   "source": [
    "x = 3 != 3\n",
    "print(x)\n",
    "\n",
    "#Percobaan 12 Operator Perbandingan\n",
    "#Percobaan ini sebagai pembanding pada percobaan awal."
   ]
  },
  {
   "cell_type": "code",
   "execution_count": 66,
   "id": "28c9d7f2",
   "metadata": {},
   "outputs": [
    {
     "name": "stdout",
     "output_type": "stream",
     "text": [
      "True\n"
     ]
    }
   ],
   "source": [
    "#%%%%%%%%%%%%%%%%%%%%%%%%%%%%%%%%%%%%%%%%%%%%%%%%%%%%%%%%%%%%%%%%%%%%%%%%%%%%%%%%%%%%%%%%%%%%%%%%%%%%%%%%%%%%%%%%%%%%%%%%%%%%%%\n",
    "#Operator Logika\n",
    "#%%%%%%%%%%%%%%%%%%%%%%%%%%%%%%%%%%%%%%%%%%%%%%%%%%%%%%%%%%%%%%%%%%%%%%%%%%%%%%%%%%%%%%%%%%%%%%%%%%%%%%%%%%%%%%%%%%%%%%%%%%%%%%\n",
    "\n",
    "buah_manggis = 10\n",
    "buah_mangga = 15\n",
    "print(buah_manggis > 8 and buah_mangga < 20)\n",
    "\n",
    "#Percobaan 1 Operator Logika\n",
    "#Metode ini sama seperti konsep konjungsi pada logika matematika.\n",
    "#Dimana pada konjungsi sendiri, jika kedua perbandingan bernilai benar, maka konjungsi juga akan bernilai benar. \n",
    "#Namun jika salah satu atau kedua perbandingan bernilai salah, maka konjungsi akan bernilai salah."
   ]
  },
  {
   "cell_type": "code",
   "execution_count": 67,
   "id": "1cb47fb1",
   "metadata": {},
   "outputs": [
    {
     "name": "stdout",
     "output_type": "stream",
     "text": [
      "True\n"
     ]
    }
   ],
   "source": [
    "print(buah_manggis < 8 or buah_mangga < 20)\n",
    "\n",
    "#Percobaan 2 Operator Logika\n",
    "#Metode ini sama seperti konsep disjungsi pada logika matematika.\n",
    "#Dimana pada disjungsi sendiri, jika kedua perbandingan bernilai salah, maka disjungsi juga akan bernilai salah. \n",
    "#Namun jika salah satu atau kedua perbandingan bernilai benar, maka disjungsi akan bernilai benar."
   ]
  },
  {
   "cell_type": "code",
   "execution_count": 68,
   "id": "933da4d4",
   "metadata": {},
   "outputs": [
    {
     "name": "stdout",
     "output_type": "stream",
     "text": [
      "False\n"
     ]
    }
   ],
   "source": [
    "print(buah_manggis < 8 or buah_mangga > 20)\n",
    "\n",
    "#Percobaan 3 Operator Logika\n",
    "#Metode ini sama seperti konsep disjungsi pada logika matematika.\n",
    "#Dimana pada disjungsi sendiri, jika kedua perbandingan bernilai salah, maka disjungsi juga akan bernilai salah. \n",
    "#Namun jika salah satu atau kedua perbandingan bernilai benar, maka disjungsi akan bernilai benar."
   ]
  },
  {
   "cell_type": "code",
   "execution_count": 69,
   "id": "6ebc9391",
   "metadata": {},
   "outputs": [
    {
     "name": "stdout",
     "output_type": "stream",
     "text": [
      "True\n"
     ]
    }
   ],
   "source": [
    "print(not (buah_manggis < 8 or buah_mangga > 20))\n",
    "\n",
    "#Percobaan 4 Operator Logika\n",
    "#Pada kasus ini, karena disjungsi tersebut bernilai salah, namun terdapat kata 'not' pada program tersebut, \n",
    "#maka hasilnya akan bertolak belakang dengan hasil disjungsinya."
   ]
  },
  {
   "cell_type": "code",
   "execution_count": 76,
   "id": "ca54a9c6",
   "metadata": {},
   "outputs": [
    {
     "name": "stdout",
     "output_type": "stream",
     "text": [
      "Nilai anda adalah 49\n",
      "Anda mendapatkan nilai E\n",
      "Sampai jumpa tahun depan\n"
     ]
    }
   ],
   "source": [
    "#%%%%%%%%%%%%%%%%%%%%%%%%%%%%%%%%%%%%%%%%%%%%%%%%%%%%%%%%%%%%%%%%%%%%%%%%%%%%%%%%%%%%%%%%%%%%%%%%%%%%%%%%%%%%%%%%%%%%%%%%%%%%%%\n",
    "#Operator if\n",
    "#%%%%%%%%%%%%%%%%%%%%%%%%%%%%%%%%%%%%%%%%%%%%%%%%%%%%%%%%%%%%%%%%%%%%%%%%%%%%%%%%%%%%%%%%%%%%%%%%%%%%%%%%%%%%%%%%%%%%%%%%%%%%%%\n",
    "\n",
    "nilai = float(input(\"Nilai anda adalah \"))\n",
    "if nilai >= 80:\n",
    "    print(\"Anda mendapatkan nilai A\")\n",
    "    print(\"Bagus sekali, selamat!\")\n",
    "if nilai < 80 and nilai >= 70:\n",
    "    print(\"Anda mendapatkan nilai B\")\n",
    "    print(\"Tingkatkan prestasimu!\")\n",
    "if nilai >= 60 and nilai < 70:\n",
    "    print(\"Anda mendapatkan nilai C\")\n",
    "    print(\"Lain kali musti lebih baik\")\n",
    "if nilai >= 50 and nilai < 60:\n",
    "    print(\"Anda mendapatkan nilai D\")\n",
    "    print(\"Ulang lagi tahun depan\")\n",
    "if nilai < 50:\n",
    "    print(\"Anda mendapatkan nilai E\")\n",
    "    print(\"Sampai jumpa tahun depan\")\n",
    "    \n",
    "#Percobaan 1 Operator if\n",
    "#Operator if akan dijalankan apabila nilai variabel yang dijalankan adalah true, \n",
    "#sedangkan kalau nilainya adalah false, maka tidak akan dijalankan."
   ]
  },
  {
   "cell_type": "code",
   "execution_count": 11,
   "id": "efe7d8de",
   "metadata": {},
   "outputs": [
    {
     "name": "stdout",
     "output_type": "stream",
     "text": [
      "Nilai anda adalah 50\n",
      "Anda mendapatkan nilai D\n",
      "Ulang lagi tahun depan\n"
     ]
    }
   ],
   "source": [
    "nilai = float(input(\"Nilai anda adalah \"))\n",
    "if nilai >= 80:\n",
    "    print(\"Anda mendapatkan nilai A\")\n",
    "    print(\"Bagus sekali, selamat!\")\n",
    "elif nilai >= 70:\n",
    "    print(\"Anda mendapatkan nilai B\")\n",
    "    print(\"Tingkatkan prestasimu!\")\n",
    "elif nilai >= 60:\n",
    "    print(\"Anda mendapatkan nilai C\")\n",
    "    print(\"Lain kali musti lebih baik\")\n",
    "if nilai >= 50:\n",
    "    print(\"Anda mendapatkan nilai D\")\n",
    "    print(\"Ulang lagi tahun depan\")\n",
    "else:\n",
    "    print(\"Anda mendapatkan nilai E\")\n",
    "    print(\"Sampai jumpa tahun depan\")\n",
    "    \n",
    "#Percobaan 2 Operator if\n",
    "#Program sebelumnya dapat dibuat dengan program seperti ini, dimana elif merupakan singkatan dari else if."
   ]
  },
  {
   "cell_type": "code",
   "execution_count": 14,
   "id": "dfa57c45",
   "metadata": {},
   "outputs": [
    {
     "name": "stdout",
     "output_type": "stream",
     "text": [
      "Berapakah tinggi anda? 160\n",
      "Tingginya dalam cm atau inci? cm\n",
      "Tinggi anda adalah 62.992160000000005 inci\n"
     ]
    }
   ],
   "source": [
    "tinggi = float(input(\"Berapakah tinggi anda? \"))\n",
    "cm_atau_inci = input(\"Tingginya dalam cm atau inci? \")\n",
    "\n",
    "if cm_atau_inci.upper() == 'CM':\n",
    "    tinggi = tinggi*0.393701\n",
    "    print(\"Tinggi anda adalah \" + str(tinggi) + \" inci\")\n",
    "elif cm_atau_inci.upper() == 'INCI':\n",
    "    tinggi = tinggi/0.393701\n",
    "    print(f\"Tinggi anda adalah {tinggi} cm\")\n",
    "    \n",
    "#Percobaan 3 Operator if\n",
    "#Program ini merupakan program untuk merubah tinggi badan seseorang dari cm ke inci ataupun sebaliknya."
   ]
  },
  {
   "cell_type": "markdown",
   "id": "854935a3",
   "metadata": {},
   "source": [
    "Note:\n",
    "\n",
    "#Untuk menambahkan kolom di atasnya, bisa dengan klik kolom kemudian klik a\n",
    "#untuk menambahkan kolom di bawahnya, bisa dengan klik kolom kemudian klik b\n",
    "#Untuk markdown kolom, bisa dengan klik kolom kemudian klik m\n",
    "#Untuk menghapus kolom, bisa dengan klik kolom kemudian klik x"
   ]
  },
  {
   "cell_type": "markdown",
   "id": "7289b16b",
   "metadata": {},
   "source": [
    "Format membuat headline:\n",
    "\n",
    "# Judul\n",
    "## Sub Judul\n",
    "### Pembahasan"
   ]
  },
  {
   "cell_type": "markdown",
   "id": "9ade98f4",
   "metadata": {},
   "source": [
    "Sintax Python:\n",
    "\n",
    "#-1 artinya true\n",
    "#-2 artinya false"
   ]
  }
 ],
 "metadata": {
  "kernelspec": {
   "display_name": "Python 3 (ipykernel)",
   "language": "python",
   "name": "python3"
  },
  "language_info": {
   "codemirror_mode": {
    "name": "ipython",
    "version": 3
   },
   "file_extension": ".py",
   "mimetype": "text/x-python",
   "name": "python",
   "nbconvert_exporter": "python",
   "pygments_lexer": "ipython3",
   "version": "3.9.13"
  }
 },
 "nbformat": 4,
 "nbformat_minor": 5
}
