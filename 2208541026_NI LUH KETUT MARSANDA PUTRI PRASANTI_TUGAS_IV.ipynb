{
 "cells": [
  {
   "cell_type": "markdown",
   "id": "d851f698",
   "metadata": {},
   "source": [
    "# While Loop"
   ]
  },
  {
   "cell_type": "code",
   "execution_count": null,
   "id": "74f6bee5",
   "metadata": {},
   "outputs": [],
   "source": [
    "x = 0\n",
    "while x<2:\n",
    "    y=x**2\n",
    "    x=x-1\n",
    "print(x)\n",
    "\n",
    "#disini tidak akan ada hasilnya karena dia selalu memenuhi. \n",
    "#dimana pada while pertama saat x = 0, maka y = 0 dan x akan menjadi -1, dan -1 memenuhi kriteria x < 2\n",
    "#kemudian saat x = -1, maka y = 1 dan x akan menjadi -2, dimana memenuhi kriteria x < 2\n",
    "#kemudian saat x = -2, maka y = 4 dan x akan menjadi -3, dimana memenuhi kriteria x < 2\n",
    "#begitu seterusnya sampai negatif tak hingga\n",
    "#itulah yang menyebabkan program tidak bisa menghasilkan output karena semua hasilnya memenuhi kriteria x < 2"
   ]
  },
  {
   "cell_type": "code",
   "execution_count": 1,
   "id": "c2270684",
   "metadata": {},
   "outputs": [
    {
     "name": "stdout",
     "output_type": "stream",
     "text": [
      "0\n"
     ]
    }
   ],
   "source": [
    "x = 0\n",
    "while x>2:\n",
    "    y=x**2\n",
    "    x=x-1\n",
    "print(x)\n",
    "\n",
    "#disini 0 tidak memenuhi kriteria x>2 sehingga proses while dilewati dan langsung pada print"
   ]
  },
  {
   "cell_type": "code",
   "execution_count": 2,
   "id": "76f34eb1",
   "metadata": {},
   "outputs": [
    {
     "name": "stdout",
     "output_type": "stream",
     "text": [
      "Angka 0 masih dibawah 5\n",
      "Angka 1 masih dibawah 5\n",
      "Angka 2 masih dibawah 5\n",
      "Angka 3 masih dibawah 5\n",
      "Angka 4 masih dibawah 5\n"
     ]
    }
   ],
   "source": [
    "a = 0\n",
    "while a < 5:\n",
    "    print(\"Angka \" + str(a) + \" masih dibawah 5\")\n",
    "    a += 1\n",
    "    \n",
    "#disini proses while terjadi karena variabel memenuhi kriteria"
   ]
  },
  {
   "cell_type": "code",
   "execution_count": 9,
   "id": "08351767",
   "metadata": {
    "scrolled": true
   },
   "outputs": [
    {
     "name": "stdout",
     "output_type": "stream",
     "text": [
      "\n",
      "*\n",
      "**\n",
      "***\n",
      "****\n"
     ]
    }
   ],
   "source": [
    "a = 0\n",
    "while a < 5:\n",
    "    print(a* '*')\n",
    "    a += 1\n",
    "\n",
    "#disini proses while juga terjadi, dimana tanda * merupakan tanda perkalian sehingga menghasilkan output seperti ini"
   ]
  },
  {
   "cell_type": "code",
   "execution_count": null,
   "id": "ff080a83",
   "metadata": {},
   "outputs": [],
   "source": [
    "#list sama seperti string dimana spasi juga dihitung, bedanya list itu seperti storage data"
   ]
  },
  {
   "cell_type": "markdown",
   "id": "c5232938",
   "metadata": {},
   "source": [
    "# List "
   ]
  },
  {
   "cell_type": "code",
   "execution_count": 9,
   "id": "de51d46e",
   "metadata": {},
   "outputs": [
    {
     "name": "stdout",
     "output_type": "stream",
     "text": [
      "['mangga', 'pisang', 'rambutan', 'durian']\n"
     ]
    }
   ],
   "source": [
    "buah = ['mangga','pisang','rambutan','durian']\n",
    "print(buah)\n",
    "\n",
    "#sama seperti fungsi print sebelumnya, bedanya disini dia berupa list"
   ]
  },
  {
   "cell_type": "code",
   "execution_count": 10,
   "id": "47709e54",
   "metadata": {},
   "outputs": [
    {
     "name": "stdout",
     "output_type": "stream",
     "text": [
      "mangga\n"
     ]
    }
   ],
   "source": [
    "print(buah[0])\n",
    "\n",
    "#perhitungannya sama seperti fungsi string index sebelumnya, dimana angka 0 untuk kata pertama, angka 1 untuk kata kedua, dst"
   ]
  },
  {
   "cell_type": "code",
   "execution_count": 11,
   "id": "89a02f33",
   "metadata": {},
   "outputs": [
    {
     "name": "stdout",
     "output_type": "stream",
     "text": [
      "rambutan\n"
     ]
    }
   ],
   "source": [
    "print(buah[2])"
   ]
  },
  {
   "cell_type": "code",
   "execution_count": 12,
   "id": "4cc88318",
   "metadata": {},
   "outputs": [
    {
     "name": "stdout",
     "output_type": "stream",
     "text": [
      "durian\n"
     ]
    }
   ],
   "source": [
    "print(buah[-1])"
   ]
  },
  {
   "cell_type": "code",
   "execution_count": 13,
   "id": "0fac7281",
   "metadata": {},
   "outputs": [
    {
     "name": "stdout",
     "output_type": "stream",
     "text": [
      "rambutan\n"
     ]
    }
   ],
   "source": [
    "print(buah[-2])"
   ]
  },
  {
   "cell_type": "code",
   "execution_count": 14,
   "id": "d7079bc0",
   "metadata": {},
   "outputs": [
    {
     "name": "stdout",
     "output_type": "stream",
     "text": [
      "['salak', 'pisang', 'rambutan', 'durian']\n"
     ]
    }
   ],
   "source": [
    "buah[0] = 'salak'\n",
    "print(buah)\n",
    "\n",
    "#untuk menggantikan isi dalam list, dapat menggunakan cara ini"
   ]
  },
  {
   "cell_type": "code",
   "execution_count": 15,
   "id": "5a340ef9",
   "metadata": {},
   "outputs": [
    {
     "name": "stdout",
     "output_type": "stream",
     "text": [
      "['salak', 'pisang', 'rambutan']\n"
     ]
    }
   ],
   "source": [
    "print(buah[0:3])\n",
    "\n",
    "#karena sebelumnya variabel salam list sudah diubah, maka list nya pun berubah menggunakan data yang baru"
   ]
  },
  {
   "cell_type": "code",
   "execution_count": 16,
   "id": "d1a3211c",
   "metadata": {},
   "outputs": [
    {
     "name": "stdout",
     "output_type": "stream",
     "text": [
      "['salak', 'pisang', 'rambutan', 'durian']\n"
     ]
    }
   ],
   "source": [
    "#tidak merubah list\n",
    "print(buah)"
   ]
  },
  {
   "cell_type": "markdown",
   "id": "e9a019c5",
   "metadata": {},
   "source": [
    "# Metoda List"
   ]
  },
  {
   "cell_type": "code",
   "execution_count": 3,
   "id": "83e81436",
   "metadata": {},
   "outputs": [
    {
     "name": "stdout",
     "output_type": "stream",
     "text": [
      "['Made', 'Eka', 'Dwi', 'Sari']\n"
     ]
    }
   ],
   "source": [
    "nama = ['Made','Eka','Dwi']\n",
    "nama.append('Sari')\n",
    "print(nama)\n",
    "\n",
    "#append biasanya digunakan untuk for?, dan append diletakkan di akhir\n",
    "#fungsi ini untuk menambahkan sesuatu"
   ]
  },
  {
   "cell_type": "code",
   "execution_count": 4,
   "id": "49afd104",
   "metadata": {},
   "outputs": [
    {
     "name": "stdout",
     "output_type": "stream",
     "text": [
      "['Dewi', 'Made', 'Eka', 'Dwi', 'Sari']\n"
     ]
    }
   ],
   "source": [
    "nama.insert(0,'Dewi')\n",
    "print(nama)\n",
    "\n",
    "#kalau mau menambahkan di suatu plot, bisa menggunakan print, dan print biasanya diletakkan di awal"
   ]
  },
  {
   "cell_type": "code",
   "execution_count": 5,
   "id": "871275ec",
   "metadata": {},
   "outputs": [
    {
     "name": "stdout",
     "output_type": "stream",
     "text": [
      "['Dewi', 'Made', 'Dwi', 'Sari']\n"
     ]
    }
   ],
   "source": [
    "nama.remove('Eka')\n",
    "print(nama)\n",
    "\n",
    "#fungsi remove untuk menghapus variabel"
   ]
  },
  {
   "cell_type": "code",
   "execution_count": 6,
   "id": "eea182db",
   "metadata": {},
   "outputs": [
    {
     "name": "stdout",
     "output_type": "stream",
     "text": [
      "False\n"
     ]
    }
   ],
   "source": [
    "print('Eka' in nama)\n",
    "\n",
    "#fungsi ini seperti boolean dimana menghasilkan true or false"
   ]
  },
  {
   "cell_type": "code",
   "execution_count": 7,
   "id": "8d5f4f46",
   "metadata": {},
   "outputs": [
    {
     "name": "stdout",
     "output_type": "stream",
     "text": [
      "True\n"
     ]
    }
   ],
   "source": [
    "print('Dewi' in nama)"
   ]
  },
  {
   "cell_type": "code",
   "execution_count": 8,
   "id": "030fe393",
   "metadata": {},
   "outputs": [
    {
     "name": "stdout",
     "output_type": "stream",
     "text": [
      "4\n"
     ]
    }
   ],
   "source": [
    "print(len(nama))\n",
    "\n",
    "#len digunakan untuk mengetahui panjang list, anggotanya ada berapa"
   ]
  },
  {
   "cell_type": "markdown",
   "id": "820d2dfb",
   "metadata": {},
   "source": [
    "# For loop"
   ]
  },
  {
   "cell_type": "code",
   "execution_count": 4,
   "id": "bfdef0b2",
   "metadata": {
    "scrolled": true
   },
   "outputs": [
    {
     "name": "stdout",
     "output_type": "stream",
     "text": [
      "mangis\n",
      "durian\n",
      "salak\n",
      "jeruk\n"
     ]
    }
   ],
   "source": [
    "buah = ['mangis','durian','salak','jeruk']\n",
    "for jenis in buah:\n",
    "    print(jenis)\n",
    "    \n",
    "#for ini mengidentifikasi satu-satu\n",
    "#dimana hasilnya akan berurutan ke bawah, bukan ke samping seperti pada fungsi list"
   ]
  },
  {
   "cell_type": "code",
   "execution_count": 5,
   "id": "a5a28fb0",
   "metadata": {},
   "outputs": [
    {
     "name": "stdout",
     "output_type": "stream",
     "text": [
      "mangis\n",
      "durian\n",
      "salak\n",
      "jeruk\n"
     ]
    }
   ],
   "source": [
    "i = 0\n",
    "while i < len(buah):\n",
    "    print(buah[i])\n",
    "    i+=1\n",
    "    \n",
    "#jika dituliskan menggunakan fungsi while maka hasilnya akan seperti ini"
   ]
  },
  {
   "cell_type": "code",
   "execution_count": 20,
   "id": "361cfb5f",
   "metadata": {},
   "outputs": [
    {
     "name": "stdout",
     "output_type": "stream",
     "text": [
      "['mangis', 'durian', 'salak', 'jeruk']\n"
     ]
    }
   ],
   "source": [
    "i = 0\n",
    "while i < len(buah):\n",
    "    i+=1\n",
    "print(buah)\n",
    "\n",
    "#jika seperti ini maka hasilnya akan berurutan ke samping\n",
    "#karena perintah print berada di akhir, dan di print secara keseluruhan, jadi output yang dihasilkan diproses berbarengan"
   ]
  },
  {
   "cell_type": "code",
   "execution_count": 21,
   "id": "b9883303",
   "metadata": {
    "scrolled": true
   },
   "outputs": [
    {
     "name": "stdout",
     "output_type": "stream",
     "text": [
      "['mangis', 'durian', 'salak', 'jeruk']\n",
      "['mangis', 'durian', 'salak', 'jeruk']\n",
      "['mangis', 'durian', 'salak', 'jeruk']\n",
      "['mangis', 'durian', 'salak', 'jeruk']\n"
     ]
    }
   ],
   "source": [
    "i = 0\n",
    "while i < len(buah):\n",
    "    print(buah)\n",
    "    i+=1\n",
    "\n",
    "#sama seperti sebelumnya, bedanya disini penambahannya dilakukan setelah print"
   ]
  },
  {
   "cell_type": "code",
   "execution_count": 24,
   "id": "2b044cf9",
   "metadata": {},
   "outputs": [
    {
     "name": "stdout",
     "output_type": "stream",
     "text": [
      "mangis\n",
      "durian\n",
      "salak\n",
      "jeruk\n"
     ]
    }
   ],
   "source": [
    "for i in range(len(buah)):\n",
    "    print(buah[i])\n",
    "    \n",
    "#dapat juga dibuat dengan menggunakan fungsi range seperti ini"
   ]
  },
  {
   "cell_type": "code",
   "execution_count": 22,
   "id": "218e6778",
   "metadata": {},
   "outputs": [
    {
     "name": "stdout",
     "output_type": "stream",
     "text": [
      "0\n",
      "1\n",
      "4\n",
      "9\n",
      "16\n"
     ]
    }
   ],
   "source": [
    "for i in [0,1,2,3,4]:\n",
    "    y=i**2\n",
    "    print(y)\n",
    "    \n",
    "#contoh lain dengan menggunakan for"
   ]
  },
  {
   "cell_type": "code",
   "execution_count": 19,
   "id": "6223c62b",
   "metadata": {},
   "outputs": [
    {
     "name": "stdout",
     "output_type": "stream",
     "text": [
      "range(0, 4)\n"
     ]
    }
   ],
   "source": [
    "print(range(len(buah)))\n",
    "\n",
    "#untuk menghitung range/batas variabel dapat menggunakan fungsi range seperti ini"
   ]
  },
  {
   "cell_type": "markdown",
   "id": "3c0cfe0c",
   "metadata": {},
   "source": [
    "# Fungsi range"
   ]
  },
  {
   "cell_type": "code",
   "execution_count": 25,
   "id": "b5857244",
   "metadata": {},
   "outputs": [
    {
     "name": "stdout",
     "output_type": "stream",
     "text": [
      "range(0, 6)\n"
     ]
    }
   ],
   "source": [
    "angka = range(6)\n",
    "print(angka)\n",
    "\n",
    "#karena angka didefinisikan dengan range(6), maka komputer akan secara otomatis menangkap bahwa batasnya adalah 6"
   ]
  },
  {
   "cell_type": "code",
   "execution_count": 26,
   "id": "7b9a87b3",
   "metadata": {},
   "outputs": [
    {
     "name": "stdout",
     "output_type": "stream",
     "text": [
      "0\n",
      "1\n",
      "2\n",
      "3\n",
      "4\n",
      "5\n"
     ]
    }
   ],
   "source": [
    "for isi in angka:\n",
    "    print(isi)\n",
    "    \n",
    "#dan karena sudah didefinisikan bahwa rangenya adalah (0,6), maka disini juga akan menggunakan range tersebut"
   ]
  },
  {
   "cell_type": "code",
   "execution_count": 27,
   "id": "622218d9",
   "metadata": {},
   "outputs": [
    {
     "name": "stdout",
     "output_type": "stream",
     "text": [
      "5\n",
      "6\n",
      "7\n",
      "8\n",
      "9\n"
     ]
    }
   ],
   "source": [
    "for isi in range(5, 10):\n",
    "    print(isi)\n",
    "\n",
    "#ini untuk mengubah rangenya"
   ]
  },
  {
   "cell_type": "code",
   "execution_count": 28,
   "id": "d808c842",
   "metadata": {},
   "outputs": [
    {
     "name": "stdout",
     "output_type": "stream",
     "text": [
      "0\n",
      "2\n",
      "4\n",
      "6\n",
      "8\n"
     ]
    }
   ],
   "source": [
    "for isi in range(0,10,2):\n",
    "    print(isi)\n",
    "    \n",
    "#ini berarti range 0 sampai 10, loncat 2, jdi bilangan genap"
   ]
  },
  {
   "cell_type": "code",
   "execution_count": 29,
   "id": "ebcb6ea4",
   "metadata": {},
   "outputs": [
    {
     "name": "stdout",
     "output_type": "stream",
     "text": [
      "5\n"
     ]
    }
   ],
   "source": [
    "data = [1,2,3,4,5,4,3,2,1]\n",
    "terbesar = data[0]\n",
    "for i in range(len(data)):\n",
    "    if data[i] > terbesar:\n",
    "        terbesar = data[i]\n",
    "print(terbesar)\n",
    "\n",
    "#percobaan mencari bilangan terbesar di dalam suatu list"
   ]
  },
  {
   "cell_type": "code",
   "execution_count": 30,
   "id": "fbb2da30",
   "metadata": {},
   "outputs": [
    {
     "name": "stdout",
     "output_type": "stream",
     "text": [
      "5\n"
     ]
    }
   ],
   "source": [
    "data = [1,2,3,4,5,4,3,2,1]\n",
    "terbesar = data[0]\n",
    "for angka in data:\n",
    "    if angka > terbesar:\n",
    "        terbesar = angka\n",
    "print(terbesar)\n",
    "\n",
    "#dapat juga dibuat dalam bentuk seperti ini"
   ]
  },
  {
   "cell_type": "code",
   "execution_count": 31,
   "id": "96152291",
   "metadata": {},
   "outputs": [
    {
     "name": "stdout",
     "output_type": "stream",
     "text": [
      "[1, 2, 3, 4, 5, 6, 7, 8]\n"
     ]
    }
   ],
   "source": [
    "angka = [1,2,3,4,5,6,3,4,5,7,8,7]\n",
    "angka_unik = []\n",
    "for anggota in angka:\n",
    "    if anggota not in angka_unik:\n",
    "        angka_unik.append(anggota)\n",
    "print(angka_unik)\n",
    "\n",
    "#percobaan membuat anggota list menjadi unik"
   ]
  }
 ],
 "metadata": {
  "kernelspec": {
   "display_name": "Python 3 (ipykernel)",
   "language": "python",
   "name": "python3"
  },
  "language_info": {
   "codemirror_mode": {
    "name": "ipython",
    "version": 3
   },
   "file_extension": ".py",
   "mimetype": "text/x-python",
   "name": "python",
   "nbconvert_exporter": "python",
   "pygments_lexer": "ipython3",
   "version": "3.9.13"
  }
 },
 "nbformat": 4,
 "nbformat_minor": 5
}
