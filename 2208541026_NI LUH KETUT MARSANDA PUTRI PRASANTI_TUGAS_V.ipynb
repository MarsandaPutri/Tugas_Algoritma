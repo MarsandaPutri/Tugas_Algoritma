{
 "cells": [
  {
   "cell_type": "markdown",
   "id": "80cebf45",
   "metadata": {},
   "source": [
    "# 5.16 LIST 2 DIMENSI"
   ]
  },
  {
   "cell_type": "markdown",
   "id": "dc5f4269",
   "metadata": {},
   "source": [
    "## Percobaan 1 pada List 2 Dimensi"
   ]
  },
  {
   "cell_type": "code",
   "execution_count": 84,
   "id": "fa097320",
   "metadata": {},
   "outputs": [
    {
     "name": "stdout",
     "output_type": "stream",
     "text": [
      "[[1, 2, 3, 4], [5, 6, 7, 8], [9, 10, 11, 12], [13, 14, 15, 16]]\n"
     ]
    }
   ],
   "source": [
    "matrik = [\n",
    "    [1,2,3,4],\n",
    "    [5,6,7,8],\n",
    "    [9,10,11,12],\n",
    "    [13,14,15,16],\n",
    "]\n",
    "print (matrik)\n",
    "\n",
    "#List 2 Dimensi adalah sebuah list dalam list yang penggambarannya seperti sebuah matrik\n",
    "#matrik diurutkan berdasarkan baris"
   ]
  },
  {
   "cell_type": "code",
   "execution_count": 85,
   "id": "a75e09b4",
   "metadata": {},
   "outputs": [
    {
     "data": {
      "text/plain": [
       "[5, 6, 7, 8]"
      ]
     },
     "execution_count": 85,
     "metadata": {},
     "output_type": "execute_result"
    }
   ],
   "source": [
    "matrik[1]\n",
    "\n",
    "#matrik [1] disini berarti baris kedua"
   ]
  },
  {
   "cell_type": "code",
   "execution_count": 69,
   "id": "2d3895f8",
   "metadata": {},
   "outputs": [
    {
     "data": {
      "text/plain": [
       "[1, 2, 3, 4]"
      ]
     },
     "execution_count": 69,
     "metadata": {},
     "output_type": "execute_result"
    }
   ],
   "source": [
    "matrik[0]\n",
    "\n",
    "#matrik [0] merupakan baris pertama, matrik [1] merupakan baris kedua, dst"
   ]
  },
  {
   "cell_type": "markdown",
   "id": "67f2007c",
   "metadata": {},
   "source": [
    "## Percobaan 2 pada List 2 Dimensi"
   ]
  },
  {
   "cell_type": "code",
   "execution_count": 70,
   "id": "a7064702",
   "metadata": {},
   "outputs": [
    {
     "data": {
      "text/plain": [
       "7"
      ]
     },
     "execution_count": 70,
     "metadata": {},
     "output_type": "execute_result"
    }
   ],
   "source": [
    "matrik[1][2]\n",
    "\n",
    "#matrik [a][b] dimana [a] menyimbolkan baris dan [b] menyimbolkan kolom\n",
    "#baris dihitung dengan simbol [0] untuk baris pertama, [1] untuk baris kedua, [2] untuk baris ketiga, dst\n",
    "#kolom dihitung dengan simbol [0] untuk kolom pertama, [1] untuk kolom kedua, [3] untuk kolom ketiga, dst"
   ]
  },
  {
   "cell_type": "markdown",
   "id": "6f589cf2",
   "metadata": {},
   "source": [
    "## Percobaan 3 pada List 2 Dimensi"
   ]
  },
  {
   "cell_type": "code",
   "execution_count": 71,
   "id": "90c572dc",
   "metadata": {},
   "outputs": [
    {
     "ename": "TypeError",
     "evalue": "'int' object is not subscriptable",
     "output_type": "error",
     "traceback": [
      "\u001b[1;31m---------------------------------------------------------------------------\u001b[0m",
      "\u001b[1;31mTypeError\u001b[0m                                 Traceback (most recent call last)",
      "\u001b[1;32m~\\AppData\\Local\\Temp\\ipykernel_30248\\3888708541.py\u001b[0m in \u001b[0;36m<module>\u001b[1;34m\u001b[0m\n\u001b[1;32m----> 1\u001b[1;33m \u001b[0mmatrik\u001b[0m\u001b[1;33m[\u001b[0m\u001b[1;36m1\u001b[0m\u001b[1;33m]\u001b[0m\u001b[1;33m[\u001b[0m\u001b[1;36m2\u001b[0m\u001b[1;33m]\u001b[0m\u001b[1;33m[\u001b[0m\u001b[1;36m3\u001b[0m\u001b[1;33m]\u001b[0m\u001b[1;33m\u001b[0m\u001b[1;33m\u001b[0m\u001b[0m\n\u001b[0m\u001b[0;32m      2\u001b[0m \u001b[1;33m\u001b[0m\u001b[0m\n\u001b[0;32m      3\u001b[0m \u001b[1;31m#error karena matrik hanya disimbolkan dengan baris dan kolom\u001b[0m\u001b[1;33m\u001b[0m\u001b[1;33m\u001b[0m\u001b[0m\n\u001b[0;32m      4\u001b[0m \u001b[1;31m#[1] untuk menyimbolkan baris kedua\u001b[0m\u001b[1;33m\u001b[0m\u001b[1;33m\u001b[0m\u001b[0m\n\u001b[0;32m      5\u001b[0m \u001b[1;31m#[2] untuk menyimbolkan kolom ketiga\u001b[0m\u001b[1;33m\u001b[0m\u001b[1;33m\u001b[0m\u001b[0m\n",
      "\u001b[1;31mTypeError\u001b[0m: 'int' object is not subscriptable"
     ]
    }
   ],
   "source": [
    "matrik[1][2][3]\n",
    "\n",
    "#error karena matrik hanya disimbolkan dengan baris dan kolom \n",
    "#[1] untuk menyimbolkan baris kedua\n",
    "#[2] untuk menyimbolkan kolom ketiga\n",
    "#sedangkan [3] tidak menyimbolkan apapun"
   ]
  },
  {
   "cell_type": "markdown",
   "id": "39efbc19",
   "metadata": {},
   "source": [
    "## Percobaan 4 pada List 2 Dimensi"
   ]
  },
  {
   "cell_type": "code",
   "execution_count": 7,
   "id": "260836df",
   "metadata": {},
   "outputs": [
    {
     "name": "stdout",
     "output_type": "stream",
     "text": [
      "100\n"
     ]
    }
   ],
   "source": [
    "matrik[1][2]=100\n",
    "print(matrik[1][2])\n",
    "\n",
    "#sudah dideklarasikan sebelumnya bahwa matrik [1][2] adalah 7\n",
    "#untuk mengganti matrik tersebut kita dapat lakukan dengan seperti ini"
   ]
  },
  {
   "cell_type": "markdown",
   "id": "12c8565a",
   "metadata": {},
   "source": [
    "## Percobaan 5 pada List 2 Dimensi"
   ]
  },
  {
   "cell_type": "code",
   "execution_count": 8,
   "id": "af92de41",
   "metadata": {},
   "outputs": [
    {
     "data": {
      "text/plain": [
       "[[1, 2, 3, 4], [5, 6, 100, 8], [9, 10, 11, 12], [13, 14, 15, 16]]"
      ]
     },
     "execution_count": 8,
     "metadata": {},
     "output_type": "execute_result"
    }
   ],
   "source": [
    "matrik\n",
    "\n",
    "#dan karena sudah digantikan dengan data yang baru, maka ketika di run sekarang maka data akan secara otomatis terupdate"
   ]
  },
  {
   "cell_type": "markdown",
   "id": "b9e4b346",
   "metadata": {},
   "source": [
    "## Percobaan 6 pada List 2 Dimensi"
   ]
  },
  {
   "cell_type": "code",
   "execution_count": 9,
   "id": "2332e804",
   "metadata": {},
   "outputs": [
    {
     "name": "stdout",
     "output_type": "stream",
     "text": [
      "[1, 2, 3, 4]\n",
      "1\n",
      "2\n",
      "3\n",
      "4\n",
      "[5, 6, 100, 8]\n",
      "5\n",
      "6\n",
      "100\n",
      "8\n",
      "[9, 10, 11, 12]\n",
      "9\n",
      "10\n",
      "11\n",
      "12\n",
      "[13, 14, 15, 16]\n",
      "13\n",
      "14\n",
      "15\n",
      "16\n"
     ]
    }
   ],
   "source": [
    "for baris in matrik:\n",
    "    print(baris)\n",
    "    for kolom in baris:\n",
    "        print(kolom) \n",
    "\n",
    "#cara memanggil anggota list\n",
    "#pada kasus ini, terjadi for di dalam for, dimana ketika for baris dijalankan dan bernilai benar, \n",
    "#maka akan dilanjutkna dengan for kolom\n",
    "#namun jika for yang pertama salah, maka for selanjutnya tidak akan diproses"
   ]
  },
  {
   "cell_type": "markdown",
   "id": "d3c81cee",
   "metadata": {},
   "source": [
    "# 5.17 TUPLES"
   ]
  },
  {
   "cell_type": "markdown",
   "id": "9d4293d3",
   "metadata": {},
   "source": [
    "## Percobaan 1 pada Tuples"
   ]
  },
  {
   "cell_type": "code",
   "execution_count": 8,
   "id": "e4f73d1e",
   "metadata": {},
   "outputs": [],
   "source": [
    "angka = (0,1,1,3,4,5)\n",
    "\n",
    "#Tuples mirip dengan list, akan tetapi tuples tidak dapat dirubah isinya\n",
    "#Jika data tidak ingin dirubah isinya, maka gunakanlah tuples\n",
    "#Sedangkan jika datanya masih ingin dimanipulasi kedepannya, maka gunakanlah list"
   ]
  },
  {
   "cell_type": "code",
   "execution_count": 9,
   "id": "ddc32e3a",
   "metadata": {},
   "outputs": [
    {
     "name": "stdout",
     "output_type": "stream",
     "text": [
      "0\n"
     ]
    }
   ],
   "source": [
    "print(angka[0])\n",
    "\n",
    "#[0] berarti variabel pertama, dan karena variabel pertama pada angka adalah 0, maka outputnya pun juga 0"
   ]
  },
  {
   "cell_type": "markdown",
   "id": "7ea869e0",
   "metadata": {},
   "source": [
    "## Percobaan 2 pada Tuples"
   ]
  },
  {
   "cell_type": "code",
   "execution_count": 10,
   "id": "4922dc48",
   "metadata": {},
   "outputs": [
    {
     "name": "stdout",
     "output_type": "stream",
     "text": [
      "(0, 1, 1)\n"
     ]
    }
   ],
   "source": [
    "print(angka[0:3])\n",
    "\n",
    "#sama seperti fungsi-fungsi sebelumnya, dimana [0:3] menandakan batas output variabel\n",
    "#dimana [0:3] berarti variabel pertama sampai variabel kedua, karena batas akhir tidak diinputkan"
   ]
  },
  {
   "cell_type": "markdown",
   "id": "750544a5",
   "metadata": {},
   "source": [
    "## Percobaan 3 pada Tuples"
   ]
  },
  {
   "cell_type": "code",
   "execution_count": 11,
   "id": "440529cd",
   "metadata": {},
   "outputs": [
    {
     "name": "stdout",
     "output_type": "stream",
     "text": [
      "0\n",
      "1\n",
      "1\n"
     ]
    }
   ],
   "source": [
    "for isi in angka[0:3]:\n",
    "    print(isi)\n",
    "    \n",
    "#sama seperti fungsi diatasnya, namun karena disini menggunakan for maka outputnya akan diproses satu-satu"
   ]
  },
  {
   "cell_type": "markdown",
   "id": "40c1fab8",
   "metadata": {},
   "source": [
    "## Percobaan 4 pada Tuples"
   ]
  },
  {
   "cell_type": "code",
   "execution_count": 12,
   "id": "6c0fc3c8",
   "metadata": {},
   "outputs": [
    {
     "ename": "TypeError",
     "evalue": "'tuple' object does not support item assignment",
     "output_type": "error",
     "traceback": [
      "\u001b[1;31m---------------------------------------------------------------------------\u001b[0m",
      "\u001b[1;31mTypeError\u001b[0m                                 Traceback (most recent call last)",
      "\u001b[1;32m~\\AppData\\Local\\Temp\\ipykernel_17108\\2461688089.py\u001b[0m in \u001b[0;36m<module>\u001b[1;34m\u001b[0m\n\u001b[1;32m----> 1\u001b[1;33m \u001b[0mangka\u001b[0m\u001b[1;33m[\u001b[0m\u001b[1;36m0\u001b[0m\u001b[1;33m]\u001b[0m \u001b[1;33m=\u001b[0m \u001b[1;36m10\u001b[0m\u001b[1;33m\u001b[0m\u001b[1;33m\u001b[0m\u001b[0m\n\u001b[0m",
      "\u001b[1;31mTypeError\u001b[0m: 'tuple' object does not support item assignment"
     ]
    }
   ],
   "source": [
    "angka[0] = 10\n",
    "\n",
    "#ketika kita menggunakan tuples, maka data tidak akan bisa diubah bagaimanapun bentuknya, karena tuples sangat ketat"
   ]
  },
  {
   "cell_type": "markdown",
   "id": "d0a9adfb",
   "metadata": {},
   "source": [
    "## Percobaan 5 pada Tuples"
   ]
  },
  {
   "cell_type": "code",
   "execution_count": 13,
   "id": "33bccaf5",
   "metadata": {},
   "outputs": [
    {
     "ename": "AttributeError",
     "evalue": "'tuple' object has no attribute 'append'",
     "output_type": "error",
     "traceback": [
      "\u001b[1;31m---------------------------------------------------------------------------\u001b[0m",
      "\u001b[1;31mAttributeError\u001b[0m                            Traceback (most recent call last)",
      "\u001b[1;32m~\\AppData\\Local\\Temp\\ipykernel_17108\\1086000304.py\u001b[0m in \u001b[0;36m<module>\u001b[1;34m\u001b[0m\n\u001b[1;32m----> 1\u001b[1;33m \u001b[0mangka\u001b[0m\u001b[1;33m.\u001b[0m\u001b[0mappend\u001b[0m\u001b[1;33m(\u001b[0m\u001b[1;36m10\u001b[0m\u001b[1;33m)\u001b[0m\u001b[1;33m\u001b[0m\u001b[1;33m\u001b[0m\u001b[0m\n\u001b[0m",
      "\u001b[1;31mAttributeError\u001b[0m: 'tuple' object has no attribute 'append'"
     ]
    }
   ],
   "source": [
    "angka.append(10)\n",
    "\n",
    "#data menggunakan tuples tidak bisa diubah, sistem tuples sangat ketat!"
   ]
  },
  {
   "cell_type": "code",
   "execution_count": 17,
   "id": "f78f8062",
   "metadata": {},
   "outputs": [
    {
     "ename": "AttributeError",
     "evalue": "'tuple' object has no attribute 'append'",
     "output_type": "error",
     "traceback": [
      "\u001b[1;31m---------------------------------------------------------------------------\u001b[0m",
      "\u001b[1;31mAttributeError\u001b[0m                            Traceback (most recent call last)",
      "\u001b[1;32m~\\AppData\\Local\\Temp\\ipykernel_17108\\2446556323.py\u001b[0m in \u001b[0;36m<module>\u001b[1;34m\u001b[0m\n\u001b[1;32m----> 1\u001b[1;33m \u001b[0mangka\u001b[0m\u001b[1;33m.\u001b[0m\u001b[0mappend\u001b[0m\u001b[1;33m[\u001b[0m\u001b[1;36m0\u001b[0m\u001b[1;33m]\u001b[0m \u001b[1;33m=\u001b[0m \u001b[1;36m10\u001b[0m\u001b[1;33m\u001b[0m\u001b[1;33m\u001b[0m\u001b[0m\n\u001b[0m",
      "\u001b[1;31mAttributeError\u001b[0m: 'tuple' object has no attribute 'append'"
     ]
    }
   ],
   "source": [
    "angka.append[0] = 10\n",
    "\n",
    "#data menggunakan tuples tidak bisa diubah, sistem tuples sangat ketat!"
   ]
  },
  {
   "cell_type": "markdown",
   "id": "59a9436c",
   "metadata": {},
   "source": [
    "## Percobaan 6 pada Tuples"
   ]
  },
  {
   "cell_type": "code",
   "execution_count": 14,
   "id": "ff65e014",
   "metadata": {},
   "outputs": [
    {
     "ename": "AttributeError",
     "evalue": "'tuple' object has no attribute 'remove'",
     "output_type": "error",
     "traceback": [
      "\u001b[1;31m---------------------------------------------------------------------------\u001b[0m",
      "\u001b[1;31mAttributeError\u001b[0m                            Traceback (most recent call last)",
      "\u001b[1;32m~\\AppData\\Local\\Temp\\ipykernel_17108\\2298564591.py\u001b[0m in \u001b[0;36m<module>\u001b[1;34m\u001b[0m\n\u001b[1;32m----> 1\u001b[1;33m \u001b[0mangka\u001b[0m\u001b[1;33m.\u001b[0m\u001b[0mremove\u001b[0m\u001b[1;33m(\u001b[0m\u001b[1;36m5\u001b[0m\u001b[1;33m)\u001b[0m\u001b[1;33m\u001b[0m\u001b[1;33m\u001b[0m\u001b[0m\n\u001b[0m",
      "\u001b[1;31mAttributeError\u001b[0m: 'tuple' object has no attribute 'remove'"
     ]
    }
   ],
   "source": [
    "angka.remove(5)\n",
    "\n",
    "#data menggunakan tuples tidak bisa dihapus, sistem tuples sangat ketat!"
   ]
  },
  {
   "cell_type": "markdown",
   "id": "777effbd",
   "metadata": {},
   "source": [
    "## Percobaan 7 pada Tuples"
   ]
  },
  {
   "cell_type": "code",
   "execution_count": 24,
   "id": "d0288207",
   "metadata": {},
   "outputs": [
    {
     "data": {
      "text/plain": [
       "2"
      ]
     },
     "execution_count": 24,
     "metadata": {},
     "output_type": "execute_result"
    }
   ],
   "source": [
    "angka.count(1)\n",
    "\n",
    "#ini berarti kita menghitung berapa jumlah variabel dalam data tersebut\n",
    "#pada kasus ini, angka 1 itu jumlahnya 2 sehingga output yang dihasilkan pun akan 2 "
   ]
  },
  {
   "cell_type": "markdown",
   "id": "cd36cf51",
   "metadata": {},
   "source": [
    "## Percobaan 8 pada Tuples"
   ]
  },
  {
   "cell_type": "code",
   "execution_count": 34,
   "id": "15ae8a4a",
   "metadata": {},
   "outputs": [
    {
     "data": {
      "text/plain": [
       "5"
      ]
     },
     "execution_count": 34,
     "metadata": {},
     "output_type": "execute_result"
    }
   ],
   "source": [
    "angka.index(5)\n",
    "\n",
    "#digunakan untuk mencari dimana keberadaan variabel tersebut\n",
    "#pada kasus ini angka 5 berada di variabel kelima"
   ]
  },
  {
   "cell_type": "code",
   "execution_count": 40,
   "id": "b4e73ebe",
   "metadata": {},
   "outputs": [
    {
     "ename": "ValueError",
     "evalue": "tuple.index(x): x not in tuple",
     "output_type": "error",
     "traceback": [
      "\u001b[1;31m---------------------------------------------------------------------------\u001b[0m",
      "\u001b[1;31mValueError\u001b[0m                                Traceback (most recent call last)",
      "\u001b[1;32m~\\AppData\\Local\\Temp\\ipykernel_17108\\2499301008.py\u001b[0m in \u001b[0;36m<module>\u001b[1;34m\u001b[0m\n\u001b[1;32m----> 1\u001b[1;33m \u001b[0mangka\u001b[0m\u001b[1;33m.\u001b[0m\u001b[0mindex\u001b[0m\u001b[1;33m(\u001b[0m\u001b[1;36m6\u001b[0m\u001b[1;33m)\u001b[0m\u001b[1;33m\u001b[0m\u001b[1;33m\u001b[0m\u001b[0m\n\u001b[0m",
      "\u001b[1;31mValueError\u001b[0m: tuple.index(x): x not in tuple"
     ]
    }
   ],
   "source": [
    "angka.index(6)\n",
    "\n",
    "#karena angka 6 tidak ada pada data sehingga error"
   ]
  },
  {
   "cell_type": "markdown",
   "id": "f5b6e84e",
   "metadata": {},
   "source": [
    "# 5.18 DICTIONARIES"
   ]
  },
  {
   "cell_type": "markdown",
   "id": "cb7ae3f4",
   "metadata": {},
   "source": [
    "## Percobaan 1 pada Dictionaries"
   ]
  },
  {
   "cell_type": "code",
   "execution_count": 35,
   "id": "491b56c3",
   "metadata": {},
   "outputs": [],
   "source": [
    "data_orang = {\n",
    "    \"nama\" : \"Ketut Dogler\",\n",
    "    \"umur\" : 12,\n",
    "    \"apakah_singel\" : False\n",
    "}\n",
    "\n",
    "#Dictionaries digunakan ketika datanya terkait satu sama lain"
   ]
  },
  {
   "cell_type": "code",
   "execution_count": 36,
   "id": "4ec3d1f7",
   "metadata": {},
   "outputs": [
    {
     "name": "stdout",
     "output_type": "stream",
     "text": [
      "Ketut Dogler\n"
     ]
    }
   ],
   "source": [
    "print(data_orang['nama'])\n",
    "\n",
    "#sudah dideklarasikan sebelumnya, maka output nya pun akan sama seperti yang dideklarasikan"
   ]
  },
  {
   "cell_type": "code",
   "execution_count": 37,
   "id": "3010d7cd",
   "metadata": {},
   "outputs": [
    {
     "ename": "KeyError",
     "evalue": "'Nama'",
     "output_type": "error",
     "traceback": [
      "\u001b[1;31m---------------------------------------------------------------------------\u001b[0m",
      "\u001b[1;31mKeyError\u001b[0m                                  Traceback (most recent call last)",
      "\u001b[1;32m~\\AppData\\Local\\Temp\\ipykernel_17108\\1883148979.py\u001b[0m in \u001b[0;36m<module>\u001b[1;34m\u001b[0m\n\u001b[1;32m----> 1\u001b[1;33m \u001b[0mprint\u001b[0m\u001b[1;33m(\u001b[0m\u001b[0mdata_orang\u001b[0m\u001b[1;33m[\u001b[0m\u001b[1;34m'Nama'\u001b[0m\u001b[1;33m]\u001b[0m\u001b[1;33m)\u001b[0m\u001b[1;33m\u001b[0m\u001b[1;33m\u001b[0m\u001b[0m\n\u001b[0m",
      "\u001b[1;31mKeyError\u001b[0m: 'Nama'"
     ]
    }
   ],
   "source": [
    "print(data_orang['Nama'])\n",
    "\n",
    "#python sensitif dengan huruf kecil/kapital\n",
    "#dimana pada kasus ini yang dideklarasikan adalah 'nama' dengan huruf n menggunakan huruf kecil\n",
    "#oleh karena itulah hasilnya menjadi error"
   ]
  },
  {
   "cell_type": "markdown",
   "id": "99f6d1be",
   "metadata": {},
   "source": [
    "## Percobaan 2 pada Dictionaries"
   ]
  },
  {
   "cell_type": "code",
   "execution_count": 38,
   "id": "59112993",
   "metadata": {},
   "outputs": [
    {
     "name": "stdout",
     "output_type": "stream",
     "text": [
      "Ketut Dogler\n"
     ]
    }
   ],
   "source": [
    "print(data_orang.get('nama'))\n",
    "\n",
    "#fungsi ini sama seperti fungsi print sebelumnya yaitu untuk menghasilkan output sesuai yang dideklarasikan\n",
    "#namun fungsi ini berbeda bentuk dengan yang sebelumnya, sehingga kita bebas menggunakan yang mana saja"
   ]
  },
  {
   "cell_type": "code",
   "execution_count": 39,
   "id": "9c390a25",
   "metadata": {},
   "outputs": [
    {
     "name": "stdout",
     "output_type": "stream",
     "text": [
      "None\n"
     ]
    }
   ],
   "source": [
    "print(data_orang.get('Nama'))\n",
    "\n",
    "#sama seperti sebelumnya karena perbedaan penggunaan huruf kecil/kapital sehingga tidak ada output yang dihasilkan\n",
    "#disini terdapat perbedaan output, dimana fungsi yang sebelumnya menghasilkan error\n",
    "#namun fungsi ini menghasilkan 'none' yang berarti tidak ada dalam definisi"
   ]
  },
  {
   "cell_type": "markdown",
   "id": "1895f7ed",
   "metadata": {},
   "source": [
    "## Percobaan 3 pada Dictionaries"
   ]
  },
  {
   "cell_type": "code",
   "execution_count": 51,
   "id": "4de87af6",
   "metadata": {},
   "outputs": [
    {
     "name": "stdout",
     "output_type": "stream",
     "text": [
      "None\n"
     ]
    }
   ],
   "source": [
    "print(data_orang.get('tanggal_lahir'))\n",
    "\n",
    "#karena tanggal lahir tidak didefinisikan sebelumnya, maka tidak ada output yang dihasilkan (none)"
   ]
  },
  {
   "cell_type": "code",
   "execution_count": 52,
   "id": "da8a8067",
   "metadata": {},
   "outputs": [
    {
     "name": "stdout",
     "output_type": "stream",
     "text": [
      "2-2-2010\n"
     ]
    }
   ],
   "source": [
    "print(data_orang.get('tanggal_lahir', '2-2-2010'))\n",
    "\n",
    "#fungsi ini untuk menambahkan variabel pada definisi\n",
    "#dan data pada fungsi get ini akan ditambahkan hanya untuk satu kali saja dimana fungsi itu dideklarasikan (bersifat sementara)"
   ]
  },
  {
   "cell_type": "markdown",
   "id": "e6503350",
   "metadata": {},
   "source": [
    "## Percobaan 4 pada Dictionaries"
   ]
  },
  {
   "cell_type": "code",
   "execution_count": 53,
   "id": "b1f8f5aa",
   "metadata": {},
   "outputs": [
    {
     "name": "stdout",
     "output_type": "stream",
     "text": [
      "{'nama': 'Ketut Dogler', 'umur': 12, 'apakah_singel': False, 'HP': '08123456789'}\n"
     ]
    }
   ],
   "source": [
    "print(data_orang)\n",
    "\n",
    "#fungsi get bersifat sementara, sehingga ketika disini kita print kembali data orang, \n",
    "#maka data tanggal lahir tidak masuk ke dalam data, karena yang terbaca hanyalah data yang dideklarasikan di awal "
   ]
  },
  {
   "cell_type": "markdown",
   "id": "a8b1f439",
   "metadata": {},
   "source": [
    "## Percobaan 5 pada Dictionaries"
   ]
  },
  {
   "cell_type": "code",
   "execution_count": 54,
   "id": "371a5eff",
   "metadata": {},
   "outputs": [
    {
     "ename": "KeyError",
     "evalue": "'tanggal_lahir'",
     "output_type": "error",
     "traceback": [
      "\u001b[1;31m---------------------------------------------------------------------------\u001b[0m",
      "\u001b[1;31mKeyError\u001b[0m                                  Traceback (most recent call last)",
      "\u001b[1;32m~\\AppData\\Local\\Temp\\ipykernel_17108\\3463751171.py\u001b[0m in \u001b[0;36m<module>\u001b[1;34m\u001b[0m\n\u001b[1;32m----> 1\u001b[1;33m \u001b[0mprint\u001b[0m\u001b[1;33m(\u001b[0m\u001b[0mdata_orang\u001b[0m\u001b[1;33m[\u001b[0m\u001b[1;34m\"tanggal_lahir\"\u001b[0m\u001b[1;33m]\u001b[0m\u001b[1;33m)\u001b[0m\u001b[1;33m\u001b[0m\u001b[1;33m\u001b[0m\u001b[0m\n\u001b[0m",
      "\u001b[1;31mKeyError\u001b[0m: 'tanggal_lahir'"
     ]
    }
   ],
   "source": [
    "print(data_orang[\"tanggal_lahir\"])\n",
    "\n",
    "#sama seperti sebelumnya, karena data tanggal lahir tidak didefinisikan di awal maka tidak akan keluar di output\n",
    "#namun disini terdapat perbedaan output, untuk fungsi ini menghasilkan error, sedangkan fungsi get menghasilkan 'none'"
   ]
  },
  {
   "cell_type": "markdown",
   "id": "83b0ad41",
   "metadata": {},
   "source": [
    "## Percobaan 6 pada Dictionaries"
   ]
  },
  {
   "cell_type": "code",
   "execution_count": 55,
   "id": "51aae062",
   "metadata": {},
   "outputs": [],
   "source": [
    "data_orang['HP'] = '08123456789'\n",
    "\n",
    "#data HP didefinisikan BUKAN menggunakan fungsi get"
   ]
  },
  {
   "cell_type": "code",
   "execution_count": 56,
   "id": "c09836bb",
   "metadata": {},
   "outputs": [
    {
     "name": "stdout",
     "output_type": "stream",
     "text": [
      "08123456789\n"
     ]
    }
   ],
   "source": [
    "print(data_orang[\"HP\"])\n",
    "\n",
    "#menghasilkan output sesuai definisi"
   ]
  },
  {
   "cell_type": "markdown",
   "id": "cf267e84",
   "metadata": {},
   "source": [
    "## Percobaan 7 pada Dictionaries"
   ]
  },
  {
   "cell_type": "code",
   "execution_count": 57,
   "id": "d4b7fb88",
   "metadata": {},
   "outputs": [
    {
     "name": "stdout",
     "output_type": "stream",
     "text": [
      "{'nama': 'Ketut Dogler', 'umur': 12, 'apakah_singel': False, 'HP': '08123456789'}\n"
     ]
    }
   ],
   "source": [
    "print(data_orang)\n",
    "\n",
    "#karena data HP didefinisikan TIDAK dengan menggunakan fungsi get, maka datanya akan bersifat SELAMANYA\n",
    "#berbeda dengan data tanggal lahir yang didefinisikan dengan menggunakan fungsi GET yang bersifat SEMENTARA"
   ]
  },
  {
   "cell_type": "markdown",
   "id": "4a54fa09",
   "metadata": {},
   "source": [
    "## Latihan Dictionaries"
   ]
  },
  {
   "cell_type": "code",
   "execution_count": 59,
   "id": "99474e23",
   "metadata": {},
   "outputs": [],
   "source": [
    "angka = {\n",
    "    \"0\" : \"nol\",\n",
    "    \"1\" : \"satu\",\n",
    "    \"2\" : \"dua\",\n",
    "    \"3\" : \"tiga\",\n",
    "    \"4\" : \"empat\",\n",
    "    \"5\" : \"lima\",\n",
    "    \"6\" : \"enam\",\n",
    "    \"7\" : \"tujuh\",\n",
    "    \"8\" : \"delapan\",\n",
    "    \"9\" : \"sembilan\"\n",
    "}"
   ]
  },
  {
   "cell_type": "code",
   "execution_count": 60,
   "id": "f33a072c",
   "metadata": {
    "scrolled": true
   },
   "outputs": [
    {
     "name": "stdout",
     "output_type": "stream",
     "text": [
      "Masukkan nomor HP anda 08123456\n",
      "nol delapan satu dua tiga empat lima enam \n"
     ]
    }
   ],
   "source": [
    "nomor_HP = input(\"Masukkan nomor HP anda \")\n",
    "nomor_angka = \"\"\n",
    "for isi in nomor_HP:\n",
    "    nomor_angka += angka.get(isi) + \" \"\n",
    "print(nomor_angka)\n",
    "\n",
    "#program untuk merubah nomor HP yang tadinya berupa angka menjadi sebutan bilangan tersebut"
   ]
  },
  {
   "cell_type": "markdown",
   "id": "253ceb6e",
   "metadata": {},
   "source": [
    "# 5.19 FUNGSI"
   ]
  },
  {
   "cell_type": "markdown",
   "id": "1f82c8f0",
   "metadata": {},
   "source": [
    "## Percobaan 1 pada Fungsi"
   ]
  },
  {
   "cell_type": "code",
   "execution_count": 66,
   "id": "499857e4",
   "metadata": {},
   "outputs": [],
   "source": [
    "def full_name(first_name, last_name):\n",
    "    print(f\"Nama lengkapnya adalah {first_name} {last_name}\")\n",
    "    \n",
    "#contoh pendefinisian fungsi agar ketika dibutuhkan tinggal kita panggil saja"
   ]
  },
  {
   "cell_type": "code",
   "execution_count": 67,
   "id": "c8b2a098",
   "metadata": {},
   "outputs": [
    {
     "name": "stdout",
     "output_type": "stream",
     "text": [
      "Nama depan anda adalah Marsanda\n",
      "Nama belakang anda adalah Putri\n",
      "Nama lengkapnya adalah Marsanda Putri\n"
     ]
    }
   ],
   "source": [
    "first_name = input(\"Nama depan anda adalah \")\n",
    "last_name = input(\"Nama belakang anda adalah \")\n",
    "full_name(first_name, last_name)\n",
    "\n",
    "#contoh pemanggilan fungsi"
   ]
  },
  {
   "cell_type": "markdown",
   "id": "151063d0",
   "metadata": {},
   "source": [
    "## Tugas Fungsi"
   ]
  },
  {
   "cell_type": "code",
   "execution_count": null,
   "id": "df1ac914",
   "metadata": {},
   "outputs": [],
   "source": [
    "#ada dua jenis tugas fungsi yaitu menjalankan perintah dan menampilkan hasil perhitungan"
   ]
  },
  {
   "cell_type": "code",
   "execution_count": 1,
   "id": "8cc51324",
   "metadata": {},
   "outputs": [],
   "source": [
    "def waktu_sampai(jarak,kecepatan):\n",
    "    waktu = jarak/kecepatan\n",
    "    print(waktu)"
   ]
  },
  {
   "cell_type": "code",
   "execution_count": 2,
   "id": "ef6eee75",
   "metadata": {},
   "outputs": [],
   "source": [
    "def waktu_tempuh(jarak,kecepatan):\n",
    "    waktu = jarak/kecepatan\n",
    "    return waktu"
   ]
  },
  {
   "cell_type": "code",
   "execution_count": 3,
   "id": "a9059892",
   "metadata": {},
   "outputs": [
    {
     "name": "stdout",
     "output_type": "stream",
     "text": [
      "1.3333333333333333\n"
     ]
    }
   ],
   "source": [
    "waktu_sampai(80,60)"
   ]
  },
  {
   "cell_type": "code",
   "execution_count": 4,
   "id": "9501922b",
   "metadata": {},
   "outputs": [
    {
     "data": {
      "text/plain": [
       "1.3333333333333333"
      ]
     },
     "execution_count": 4,
     "metadata": {},
     "output_type": "execute_result"
    }
   ],
   "source": [
    "waktu_tempuh(80,60)"
   ]
  },
  {
   "cell_type": "code",
   "execution_count": 5,
   "id": "bc3110c7",
   "metadata": {},
   "outputs": [
    {
     "name": "stdout",
     "output_type": "stream",
     "text": [
      "1.3333333333333333\n",
      "None\n"
     ]
    }
   ],
   "source": [
    "a = waktu_sampai(80,60)\n",
    "print(a)"
   ]
  },
  {
   "cell_type": "code",
   "execution_count": 6,
   "id": "ed7fb54c",
   "metadata": {},
   "outputs": [
    {
     "name": "stdout",
     "output_type": "stream",
     "text": [
      "1.3333333333333333\n"
     ]
    }
   ],
   "source": [
    "b = waktu_tempuh(80,60)\n",
    "print(b)"
   ]
  },
  {
   "cell_type": "markdown",
   "id": "fa777630",
   "metadata": {},
   "source": [
    "## Latihan Fungsi"
   ]
  },
  {
   "cell_type": "code",
   "execution_count": 11,
   "id": "853f7603",
   "metadata": {},
   "outputs": [],
   "source": [
    "import numpy as np"
   ]
  },
  {
   "cell_type": "code",
   "execution_count": 12,
   "id": "2516c11f",
   "metadata": {},
   "outputs": [],
   "source": [
    "def luas_segitiga(alas,tinggi):\n",
    "    luas=(1/2)*alas*tinggi\n",
    "    return luas\n",
    "def luas_lingkaran(jari_jari):\n",
    "    luas=np.pi*(jari_jari**2)\n",
    "    return luas\n",
    "def luas_persegi(sisi):\n",
    "    luas=sisi**2\n",
    "    return luas\n",
    "def luas_persegi_panjang(panjang,lebar):\n",
    "    luas=panjang*lebar\n",
    "    return luas"
   ]
  },
  {
   "cell_type": "code",
   "execution_count": 7,
   "id": "8b7fa74d",
   "metadata": {
    "scrolled": true
   },
   "outputs": [
    {
     "name": "stdout",
     "output_type": "stream",
     "text": [
      "Tulis jenis bidangnya jajar genjang\n",
      "Maaf bidang jajar genjang yang anda masukkan tidak ada.\n",
      "Pilihan cuma SEGITIGA, LINGKARAN, PERSEGI dan PERSEGI PANJANG.\n",
      "Terimakasih\n"
     ]
    }
   ],
   "source": [
    "jenis_bidang=input(\"Tulis jenis bidangnya \")\n",
    "if jenis_bidang.upper() == 'SEGITIGA':\n",
    "    alas = float(input('Berapakah panjang alasnya? '))\n",
    "    tinggi = float(input('Berapakah tingginya? '))\n",
    "    luas = luas_segitiga(alas,tinggi)\n",
    "    print(f\"Luas {jenis_bidang} adalah {luas}\")\n",
    "elif jenis_bidang.upper() == 'LINGKARAN':\n",
    "    jari_jari = float(input('Berapakah panjang jari-jarinya? '))\n",
    "    luas = luas_lingkaran(jari_jari)\n",
    "    print(f\"Luas {jenis_bidang} adalah {luas}\")\n",
    "elif (jenis_bidang.upper() == 'PERSEGI') or (jenis_bidang.upper() == 'BUJUR SANGKAR'):\n",
    "    sisi = float(input('Berapakah panjang sisinya? '))\n",
    "    luas = luas_persegi(sisi)\n",
    "    print(f\"Luas {jenis_bidang} adalah {luas}\")\n",
    "elif jenis_bidang.upper() == 'PERSEGI PANJANG':\n",
    "    panjang = float(input('Berapakah panjangnya? '))\n",
    "    lebar = float(input('Berapakah lebarnya? '))\n",
    "    luas = luas_persegi_panjang(panjang, lebar)\n",
    "    print(f\"Luas {jenis_bidang} adalah {luas}\")\n",
    "else:\n",
    "    print(f\"Maaf bidang {jenis_bidang} yang anda masukkan tidak ada.\")\n",
    "    print(\"Pilihan cuma SEGITIGA, LINGKARAN, PERSEGI dan PERSEGI PANJANG.\")\n",
    "    print('Terimakasih')\n",
    "    \n",
    "#program ini digunakan untuk menghitung luas segitiga, lingkaran, persegi, dan persegi panjang\n",
    "#selain dari pada itu akan diberikan peringatan bagi bidang lain yang tidak termasuk perhitungan"
   ]
  },
  {
   "cell_type": "markdown",
   "id": "42f7d977",
   "metadata": {},
   "source": [
    "# 5.20 NUMPY"
   ]
  },
  {
   "cell_type": "markdown",
   "id": "fe7cf02d",
   "metadata": {},
   "source": [
    "## 5.20.1 Perintah Dasar"
   ]
  },
  {
   "cell_type": "markdown",
   "id": "463d6528",
   "metadata": {},
   "source": [
    "### Percobaan 1 Perintah Dasar pada Numpy"
   ]
  },
  {
   "cell_type": "code",
   "execution_count": 9,
   "id": "be44ed40",
   "metadata": {},
   "outputs": [],
   "source": [
    "import numpy as np\n",
    "\n",
    "#digunakan untuk memanggil library numpy\n",
    "#numpy merupakan salah satu library dalam python yang memiliki keunggulan,\n",
    "#baik itu dalam perhitungan menggunakan vektor maupun matrik dalam berbagai dimensi"
   ]
  },
  {
   "cell_type": "code",
   "execution_count": 5,
   "id": "cb51f1a4",
   "metadata": {},
   "outputs": [
    {
     "name": "stdout",
     "output_type": "stream",
     "text": [
      "[0 1 2 3 4]\n"
     ]
    }
   ],
   "source": [
    "a = np.array([0,1,2,3,4])\n",
    "print(a)\n",
    "\n",
    "#fungsi print dijalankan sama seperti sebelumnya"
   ]
  },
  {
   "cell_type": "code",
   "execution_count": 6,
   "id": "ab3e264f",
   "metadata": {},
   "outputs": [
    {
     "name": "stdout",
     "output_type": "stream",
     "text": [
      "[[5 6 7 8]\n",
      " [9 8 7 6]]\n"
     ]
    }
   ],
   "source": [
    "b = np.array([[5,6,7,8],[9,8,7,6]])\n",
    "print(b)\n",
    "\n",
    "#output dihasilkan satu-satu secara berurutan"
   ]
  },
  {
   "cell_type": "code",
   "execution_count": 7,
   "id": "63677d99",
   "metadata": {},
   "outputs": [
    {
     "name": "stdout",
     "output_type": "stream",
     "text": [
      "[[[0 1 2 3]\n",
      "  [4 5 6 7]]\n",
      "\n",
      " [[8 9 8 7]\n",
      "  [6 5 4 3]]\n",
      "\n",
      " [[1 2 3 4]\n",
      "  [5 6 7 8]]]\n"
     ]
    }
   ],
   "source": [
    "c = np.array ([[[0,1,2,3],[4,5,6,7]],\n",
    "               [[8,9,8,7],[6,5,4,3]],\n",
    "               [[1,2,3,4],[5,6,7,8]]])\n",
    "print(c)\n",
    "\n",
    "#output dihasilkan satu-satu secara berurutan"
   ]
  },
  {
   "cell_type": "markdown",
   "id": "33a8028f",
   "metadata": {},
   "source": [
    "### Percobaan 2 Perintah Dasar pada Numpy"
   ]
  },
  {
   "cell_type": "code",
   "execution_count": 8,
   "id": "bd47366e",
   "metadata": {},
   "outputs": [
    {
     "data": {
      "text/plain": [
       "1"
      ]
     },
     "execution_count": 8,
     "metadata": {},
     "output_type": "execute_result"
    }
   ],
   "source": [
    "a.ndim\n",
    "\n",
    "#fungsi ndim berarti menghitung jumlah dimensi dari variabel\n",
    "#disini berarti terdapat 1 dimensi"
   ]
  },
  {
   "cell_type": "code",
   "execution_count": 9,
   "id": "0e6cfb72",
   "metadata": {},
   "outputs": [
    {
     "data": {
      "text/plain": [
       "2"
      ]
     },
     "execution_count": 9,
     "metadata": {},
     "output_type": "execute_result"
    }
   ],
   "source": [
    "b.ndim\n",
    "\n",
    "#disini berarti terdapat 2 dimensi"
   ]
  },
  {
   "cell_type": "code",
   "execution_count": 10,
   "id": "01fdf5de",
   "metadata": {},
   "outputs": [
    {
     "data": {
      "text/plain": [
       "3"
      ]
     },
     "execution_count": 10,
     "metadata": {},
     "output_type": "execute_result"
    }
   ],
   "source": [
    "c.ndim\n",
    "\n",
    "#disini berarti terdapat 3 dimensi"
   ]
  },
  {
   "cell_type": "markdown",
   "id": "808df546",
   "metadata": {},
   "source": [
    "### Percobaan 3 Perintah Dasar pada Numpy"
   ]
  },
  {
   "cell_type": "code",
   "execution_count": 11,
   "id": "8a0a3c80",
   "metadata": {},
   "outputs": [
    {
     "data": {
      "text/plain": [
       "(5,)"
      ]
     },
     "execution_count": 11,
     "metadata": {},
     "output_type": "execute_result"
    }
   ],
   "source": [
    "a.shape\n",
    "\n",
    "#fungsi shape berarti menampilkan bentuk dari variabel tersebut (yaitu batas berupa angka), baik itu vektor maupun matrik\n",
    "#pada kasus ini berarti terdapat 5 kolom dalam bentuk vektor"
   ]
  },
  {
   "cell_type": "code",
   "execution_count": 12,
   "id": "e078d6bf",
   "metadata": {},
   "outputs": [
    {
     "data": {
      "text/plain": [
       "(2, 4)"
      ]
     },
     "execution_count": 12,
     "metadata": {},
     "output_type": "execute_result"
    }
   ],
   "source": [
    "b.shape\n",
    "\n",
    "#ini berarti terdapat 2 baris dan dalam tiap baris terdapat 4 kolom dalam bentuk matrik"
   ]
  },
  {
   "cell_type": "code",
   "execution_count": 13,
   "id": "8a5b4456",
   "metadata": {},
   "outputs": [
    {
     "data": {
      "text/plain": [
       "(3, 2, 4)"
      ]
     },
     "execution_count": 13,
     "metadata": {},
     "output_type": "execute_result"
    }
   ],
   "source": [
    "c.shape\n",
    "\n",
    "#ini berarti terdapat 3 baris yang dalam tiap baris terdapat 2 baris lagi, dan di tiap baris tersebut terdapat 4 kolom\n",
    "#variabel ini berbentuk matrik"
   ]
  },
  {
   "cell_type": "markdown",
   "id": "585a62d2",
   "metadata": {},
   "source": [
    "## 5.20.2 Memanggil Anggota, Kolom dan Baris"
   ]
  },
  {
   "cell_type": "markdown",
   "id": "e5e78d72",
   "metadata": {},
   "source": [
    "### Percobaan 1 Memanggil Anggota, Kolom dan Baris pada Numpy"
   ]
  },
  {
   "cell_type": "code",
   "execution_count": 10,
   "id": "23d2168e",
   "metadata": {},
   "outputs": [
    {
     "name": "stdout",
     "output_type": "stream",
     "text": [
      "[[ 1  2  3  4]\n",
      " [ 5  6  7  8]\n",
      " [ 9 10 11 12]]\n"
     ]
    }
   ],
   "source": [
    "d = np.array([[1,2,3,4],[5,6,7,8],[9,10,11,12]])\n",
    "print(d)\n",
    "\n",
    "#pendefinisian variabel sekaligus menjalankan fungsi print sama seperti sebelumnya"
   ]
  },
  {
   "cell_type": "code",
   "execution_count": 13,
   "id": "003b8f68",
   "metadata": {},
   "outputs": [
    {
     "data": {
      "text/plain": [
       "4"
      ]
     },
     "execution_count": 13,
     "metadata": {},
     "output_type": "execute_result"
    }
   ],
   "source": [
    "d[0,3]\n",
    "\n",
    "#sama seperti sub judul pembahasan kita kali ini yaitu memanggil anggota, kolom dan baris,\n",
    "#maka program ini digunakan untuk menampilkan anggota, kolom dan baris pada variabel tersebut\n",
    "#dalam kasus ini, kita memanggil anggota [0] yaitu anggota pertama yang berada di kolom [3] yaitu kolom keempat"
   ]
  },
  {
   "cell_type": "markdown",
   "id": "d38f2561",
   "metadata": {},
   "source": [
    "### Percobaan 2 Memanggil Anggota, Kolom dan Baris pada Numpy"
   ]
  },
  {
   "cell_type": "code",
   "execution_count": 17,
   "id": "aa014865",
   "metadata": {},
   "outputs": [
    {
     "data": {
      "text/plain": [
       "array([5, 6, 7, 8])"
      ]
     },
     "execution_count": 17,
     "metadata": {},
     "output_type": "execute_result"
    }
   ],
   "source": [
    "d[1,:]\n",
    "\n",
    "#disini berarti kita memanggil anggota [1] yaitu anggota yang berada di urutan kedua\n",
    "#dan karena tidak ada kolom yang didefinisikan [:], maka semua anggota [1] dipanggil"
   ]
  },
  {
   "cell_type": "code",
   "execution_count": 18,
   "id": "c206c704",
   "metadata": {},
   "outputs": [
    {
     "data": {
      "text/plain": [
       "array([ 3,  7, 11])"
      ]
     },
     "execution_count": 18,
     "metadata": {},
     "output_type": "execute_result"
    }
   ],
   "source": [
    "d[:,2]\n",
    "\n",
    "#tidak didefinisikan [:] anggota ke berapa yang dipanggil\n",
    "#namun dipanggil kolom [2] yaitu kolom yang berada di urutan ketiga \n",
    "#sehingga yang terpanggil adalah seluruh anggota yang berada di kolom [2]"
   ]
  },
  {
   "cell_type": "markdown",
   "id": "23b9698e",
   "metadata": {},
   "source": [
    "### Percobaan 3 Memanggil Anggota, Kolom dan Baris pada Numpy"
   ]
  },
  {
   "cell_type": "code",
   "execution_count": 19,
   "id": "2fcdad9d",
   "metadata": {},
   "outputs": [
    {
     "data": {
      "text/plain": [
       "array([2, 3])"
      ]
     },
     "execution_count": 19,
     "metadata": {},
     "output_type": "execute_result"
    }
   ],
   "source": [
    "d[0,1:3]\n",
    "\n",
    "#dipanggil anggota [0] yaitu anggota yang berada dalam urutan pertama\n",
    "#kemudian dipanggil kolom [1:3] yaitu kolom dengan urut kedua sampai kolom dengan urut ketiga\n",
    "#sehingga yang terpanggil adalah kolom [1:3] dalam anggota [0]"
   ]
  },
  {
   "cell_type": "code",
   "execution_count": 20,
   "id": "23f08a10",
   "metadata": {},
   "outputs": [
    {
     "data": {
      "text/plain": [
       "array([1, 3])"
      ]
     },
     "execution_count": 20,
     "metadata": {},
     "output_type": "execute_result"
    }
   ],
   "source": [
    "d[0,0:3:2]\n",
    "\n",
    "#dipanggil anggota [0] yaitu anggota yang berada dalam urutan pertama\n",
    "#kemudian dipanggil kolom [0:3:2] yaitu dipanggil dari kolom [0] sampai kolom [3], namun diloncati 2 kali\n",
    "#sehingga yang terpanggil adalah kolom [0:3:2] dalam anggota [0]"
   ]
  },
  {
   "cell_type": "markdown",
   "id": "7822671b",
   "metadata": {},
   "source": [
    "### Percobaan 4 Memanggil Anggota, Kolom dan Baris pada Numpy"
   ]
  },
  {
   "cell_type": "code",
   "execution_count": 21,
   "id": "1504a106",
   "metadata": {},
   "outputs": [
    {
     "name": "stdout",
     "output_type": "stream",
     "text": [
      "[[100   2   3   4]\n",
      " [  5   6   7   8]\n",
      " [  9  10  11  12]]\n"
     ]
    }
   ],
   "source": [
    "d[0,0] = 100\n",
    "print(d)\n",
    "\n",
    "#fungsi ini digunakan untuk merubah variabel \n",
    "#variabel yang diubah dalam fungsi ini adalah variabel yang berada pada anggota [0] kolom [0]"
   ]
  },
  {
   "cell_type": "markdown",
   "id": "7b7b7dfc",
   "metadata": {},
   "source": [
    "## 5.20.3 Matrix"
   ]
  },
  {
   "cell_type": "markdown",
   "id": "c0cf5ef4",
   "metadata": {},
   "source": [
    "### Percobaan 1 Matrix pada Numpy"
   ]
  },
  {
   "cell_type": "code",
   "execution_count": 14,
   "id": "ed531b39",
   "metadata": {},
   "outputs": [
    {
     "data": {
      "text/plain": [
       "array([[1., 1., 1.],\n",
       "       [1., 1., 1.]])"
      ]
     },
     "execution_count": 14,
     "metadata": {},
     "output_type": "execute_result"
    }
   ],
   "source": [
    "np.ones((2,3))\n",
    "\n",
    "#fungsi ini digunakan untuk membuat berbagai jenis matrix\n",
    "#pada kasus ini, karena menggunakan fungsi ones maka outputnya adalah matrix satu dengan 2 baris dan 3 kolom"
   ]
  },
  {
   "cell_type": "code",
   "execution_count": 15,
   "id": "2a825385",
   "metadata": {},
   "outputs": [
    {
     "data": {
      "text/plain": [
       "array([[0., 0.],\n",
       "       [0., 0.],\n",
       "       [0., 0.]])"
      ]
     },
     "execution_count": 15,
     "metadata": {},
     "output_type": "execute_result"
    }
   ],
   "source": [
    "np.zeros((3,2))\n",
    "\n",
    "#disini menggunakan fungsi zeros yaitu matrix nol dengan 3 baris dan 2 kolom"
   ]
  },
  {
   "cell_type": "markdown",
   "id": "b89e0a21",
   "metadata": {},
   "source": [
    "### Percobaan 2 Matrix pada Numpy"
   ]
  },
  {
   "cell_type": "code",
   "execution_count": 16,
   "id": "8a9702a4",
   "metadata": {},
   "outputs": [
    {
     "data": {
      "text/plain": [
       "array([[1., 0., 0., 0.],\n",
       "       [0., 1., 0., 0.],\n",
       "       [0., 0., 1., 0.],\n",
       "       [0., 0., 0., 1.]])"
      ]
     },
     "execution_count": 16,
     "metadata": {},
     "output_type": "execute_result"
    }
   ],
   "source": [
    "np.identity(4)\n",
    "\n",
    "#disini menggunakan matrix identitas dengan jumlah baris dan kolom sama yaitu 4"
   ]
  },
  {
   "cell_type": "markdown",
   "id": "86e13a3f",
   "metadata": {},
   "source": [
    "### Percobaan 3 Matrix pada Numpy"
   ]
  },
  {
   "cell_type": "code",
   "execution_count": 17,
   "id": "9e4f6526",
   "metadata": {},
   "outputs": [
    {
     "data": {
      "text/plain": [
       "array([[[1., 1., 1., 1.],\n",
       "        [1., 1., 1., 1.],\n",
       "        [1., 1., 1., 1.]],\n",
       "\n",
       "       [[1., 1., 1., 1.],\n",
       "        [1., 1., 1., 1.],\n",
       "        [1., 1., 1., 1.]]])"
      ]
     },
     "execution_count": 17,
     "metadata": {},
     "output_type": "execute_result"
    }
   ],
   "source": [
    "np.ones((2,3,4))\n",
    "\n",
    "#disini menggunakan matrix satu dengan 2 baris, dan tiap barisnya memiliki 3 baris lagi yang memiliki 4 kolom"
   ]
  },
  {
   "cell_type": "markdown",
   "id": "87491662",
   "metadata": {},
   "source": [
    "### Percobaan 4 Matrix pada Numpy"
   ]
  },
  {
   "cell_type": "code",
   "execution_count": 18,
   "id": "223b144a",
   "metadata": {},
   "outputs": [
    {
     "data": {
      "text/plain": [
       "array([[9, 9],\n",
       "       [9, 9],\n",
       "       [9, 9]])"
      ]
     },
     "execution_count": 18,
     "metadata": {},
     "output_type": "execute_result"
    }
   ],
   "source": [
    "np.full((3,2),9)\n",
    "\n",
    "#disini menggunakan matrix full dengan isi angka 9\n",
    "#dan terdapat 3 baris dan 2 kolom pada matrix tersebut"
   ]
  },
  {
   "cell_type": "markdown",
   "id": "2d407771",
   "metadata": {},
   "source": [
    "### Percobaan 5 Matrix pada Numpy"
   ]
  },
  {
   "cell_type": "code",
   "execution_count": 31,
   "id": "c8a21e3f",
   "metadata": {},
   "outputs": [
    {
     "data": {
      "text/plain": [
       "array([[0.9339875 , 0.82271035, 0.65433692],\n",
       "       [0.27588499, 0.61652456, 0.41042106],\n",
       "       [0.90102323, 0.13502807, 0.17165362],\n",
       "       [0.05564929, 0.4341856 , 0.2068507 ]])"
      ]
     },
     "execution_count": 31,
     "metadata": {},
     "output_type": "execute_result"
    }
   ],
   "source": [
    "np.random.rand(4,3)\n",
    "\n",
    "#matrix ini menggunakan 4 baris dan 3 kolom\n",
    "#program random.rand akan menghasilkan nomor acak yang berbeda saat menjalankan kode yang sama beberapa kali"
   ]
  },
  {
   "cell_type": "markdown",
   "id": "3841e356",
   "metadata": {},
   "source": [
    "### Percobaan 6 Matrix pada Numpy"
   ]
  },
  {
   "cell_type": "code",
   "execution_count": 20,
   "id": "55914954",
   "metadata": {},
   "outputs": [
    {
     "data": {
      "text/plain": [
       "array([[1, 6, 4, 2],\n",
       "       [2, 2, 1, 6],\n",
       "       [9, 4, 2, 2]])"
      ]
     },
     "execution_count": 20,
     "metadata": {},
     "output_type": "execute_result"
    }
   ],
   "source": [
    "np.random.randint(1,10,size=(3,4))\n",
    "\n",
    "#matrix ini menggunakan 3 baris dan 4 kolom\n",
    "#program random.randint akan menghasilkan sebuah angka dengan tipe data integer acak dari parameter yang diberikan\n",
    "#dalam kasus ini parameternya adalah 1,10"
   ]
  },
  {
   "cell_type": "markdown",
   "id": "d883306a",
   "metadata": {},
   "source": [
    "### Latihan Matrix pada Numpy"
   ]
  },
  {
   "cell_type": "code",
   "execution_count": 21,
   "id": "031ee6c8",
   "metadata": {},
   "outputs": [
    {
     "name": "stdout",
     "output_type": "stream",
     "text": [
      "[[0. 0. 0. 0. 0. 0. 0. 0. 0. 0.]\n",
      " [0. 0. 0. 0. 0. 0. 0. 0. 0. 0.]\n",
      " [0. 0. 0. 0. 0. 0. 0. 0. 0. 0.]\n",
      " [0. 0. 0. 0. 0. 0. 0. 0. 0. 0.]\n",
      " [0. 0. 0. 0. 0. 0. 0. 0. 0. 0.]\n",
      " [0. 0. 0. 0. 0. 0. 0. 0. 0. 0.]\n",
      " [0. 0. 0. 0. 0. 0. 0. 0. 0. 0.]\n",
      " [0. 0. 0. 0. 0. 0. 0. 0. 0. 0.]\n",
      " [0. 0. 0. 0. 0. 0. 0. 0. 0. 0.]\n",
      " [0. 0. 0. 0. 0. 0. 0. 0. 0. 0.]]\n"
     ]
    }
   ],
   "source": [
    "a = np.zeros((10,10))\n",
    "print(a)\n",
    "\n",
    "#beberapa contoh program untuk membuat matrik ukuran 10 × 10"
   ]
  },
  {
   "cell_type": "code",
   "execution_count": 22,
   "id": "e6fe10a6",
   "metadata": {},
   "outputs": [
    {
     "name": "stdout",
     "output_type": "stream",
     "text": [
      "[[1. 0. 0. 0. 0. 0. 0. 0. 0. 0.]\n",
      " [0. 1. 0. 0. 0. 0. 0. 0. 0. 0.]\n",
      " [0. 0. 1. 0. 0. 0. 0. 0. 0. 0.]\n",
      " [0. 0. 0. 1. 0. 0. 0. 0. 0. 0.]\n",
      " [0. 0. 0. 0. 1. 0. 0. 0. 0. 0.]\n",
      " [0. 0. 0. 0. 0. 1. 0. 0. 0. 0.]\n",
      " [0. 0. 0. 0. 0. 0. 1. 0. 0. 0.]\n",
      " [0. 0. 0. 0. 0. 0. 0. 1. 0. 0.]\n",
      " [0. 0. 0. 0. 0. 0. 0. 0. 1. 0.]\n",
      " [0. 0. 0. 0. 0. 0. 0. 0. 0. 1.]]\n"
     ]
    }
   ],
   "source": [
    "b = np.identity(10)\n",
    "print(b)"
   ]
  },
  {
   "cell_type": "code",
   "execution_count": 23,
   "id": "4b88afa9",
   "metadata": {},
   "outputs": [
    {
     "name": "stdout",
     "output_type": "stream",
     "text": [
      "[[9. 0. 0. 0. 0. 0. 0. 0. 0. 0.]\n",
      " [0. 9. 0. 0. 0. 0. 0. 0. 0. 0.]\n",
      " [0. 0. 9. 0. 0. 0. 0. 0. 0. 0.]\n",
      " [0. 0. 0. 9. 0. 0. 0. 0. 0. 0.]\n",
      " [0. 0. 0. 0. 9. 0. 0. 0. 0. 0.]\n",
      " [0. 0. 0. 0. 0. 9. 0. 0. 0. 0.]\n",
      " [0. 0. 0. 0. 0. 0. 9. 0. 0. 0.]\n",
      " [0. 0. 0. 0. 0. 0. 0. 9. 0. 0.]\n",
      " [0. 0. 0. 0. 0. 0. 0. 0. 9. 0.]\n",
      " [0. 0. 0. 0. 0. 0. 0. 0. 0. 9.]]\n"
     ]
    }
   ],
   "source": [
    "c = 9*b\n",
    "print(c)"
   ]
  },
  {
   "cell_type": "code",
   "execution_count": 24,
   "id": "92f6d334",
   "metadata": {},
   "outputs": [
    {
     "name": "stdout",
     "output_type": "stream",
     "text": [
      "[[9. 1. 1. 1. 1. 1. 1. 1.]\n",
      " [1. 9. 1. 1. 1. 1. 1. 1.]\n",
      " [1. 1. 9. 1. 1. 1. 1. 1.]\n",
      " [1. 1. 1. 9. 1. 1. 1. 1.]\n",
      " [1. 1. 1. 1. 9. 1. 1. 1.]\n",
      " [1. 1. 1. 1. 1. 9. 1. 1.]\n",
      " [1. 1. 1. 1. 1. 1. 9. 1.]\n",
      " [1. 1. 1. 1. 1. 1. 1. 9.]]\n"
     ]
    }
   ],
   "source": [
    "d = np.ones((8,8))\n",
    "e = np.identity(8)*8\n",
    "f = d+e\n",
    "print(f)"
   ]
  },
  {
   "cell_type": "code",
   "execution_count": 26,
   "id": "458ed75e",
   "metadata": {},
   "outputs": [
    {
     "name": "stdout",
     "output_type": "stream",
     "text": [
      "[[9. 0. 0. 0. 0. 0. 0. 0. 0. 0.]\n",
      " [0. 9. 1. 1. 1. 1. 1. 1. 1. 0.]\n",
      " [0. 1. 9. 1. 1. 1. 1. 1. 1. 0.]\n",
      " [0. 1. 1. 9. 1. 1. 1. 1. 1. 0.]\n",
      " [0. 1. 1. 1. 9. 1. 1. 1. 1. 0.]\n",
      " [0. 1. 1. 1. 1. 9. 1. 1. 1. 0.]\n",
      " [0. 1. 1. 1. 1. 1. 9. 1. 1. 0.]\n",
      " [0. 1. 1. 1. 1. 1. 1. 9. 1. 0.]\n",
      " [0. 1. 1. 1. 1. 1. 1. 1. 9. 0.]\n",
      " [0. 0. 0. 0. 0. 0. 0. 0. 0. 9.]]\n"
     ]
    }
   ],
   "source": [
    "c[1:-1,1:-1] = f\n",
    "print(c)"
   ]
  },
  {
   "cell_type": "code",
   "execution_count": 27,
   "id": "8fba2071",
   "metadata": {},
   "outputs": [
    {
     "name": "stdout",
     "output_type": "stream",
     "text": [
      "[[9. 0. 0. 0. 0. 0. 0. 0. 0. 0.]\n",
      " [0. 9. 1. 1. 1. 1. 1. 1. 1. 0.]\n",
      " [0. 1. 9. 0. 0. 0. 0. 0. 1. 0.]\n",
      " [0. 1. 0. 9. 0. 0. 0. 0. 1. 0.]\n",
      " [0. 1. 0. 0. 9. 0. 0. 0. 1. 0.]\n",
      " [0. 1. 0. 0. 0. 9. 0. 0. 1. 0.]\n",
      " [0. 1. 0. 0. 0. 0. 9. 0. 1. 0.]\n",
      " [0. 1. 0. 0. 0. 0. 0. 9. 1. 0.]\n",
      " [0. 1. 1. 1. 1. 1. 1. 1. 9. 0.]\n",
      " [0. 0. 0. 0. 0. 0. 0. 0. 0. 9.]]\n"
     ]
    }
   ],
   "source": [
    "g = np.identity(6)*9\n",
    "c[2:-2,2:-2] = g\n",
    "print(c)"
   ]
  },
  {
   "cell_type": "code",
   "execution_count": 28,
   "id": "0dc28ff0",
   "metadata": {},
   "outputs": [
    {
     "name": "stdout",
     "output_type": "stream",
     "text": [
      "[[9. 2. 2. 2.]\n",
      " [2. 9. 2. 2.]\n",
      " [2. 2. 9. 2.]\n",
      " [2. 2. 2. 9.]]\n"
     ]
    }
   ],
   "source": [
    "h = np.ones((4,4))*2\n",
    "i = np.identity(4)*7\n",
    "j = h+i\n",
    "print(j)"
   ]
  },
  {
   "cell_type": "code",
   "execution_count": 29,
   "id": "2a0e2131",
   "metadata": {},
   "outputs": [
    {
     "name": "stdout",
     "output_type": "stream",
     "text": [
      "[[9. 0. 0. 0. 0. 0. 0. 0. 0. 0.]\n",
      " [0. 9. 1. 1. 1. 1. 1. 1. 1. 0.]\n",
      " [0. 1. 9. 0. 0. 0. 0. 0. 1. 0.]\n",
      " [0. 1. 0. 9. 2. 2. 2. 0. 1. 0.]\n",
      " [0. 1. 0. 2. 9. 2. 2. 0. 1. 0.]\n",
      " [0. 1. 0. 2. 2. 9. 2. 0. 1. 0.]\n",
      " [0. 1. 0. 2. 2. 2. 9. 0. 1. 0.]\n",
      " [0. 1. 0. 0. 0. 0. 0. 9. 1. 0.]\n",
      " [0. 1. 1. 1. 1. 1. 1. 1. 9. 0.]\n",
      " [0. 0. 0. 0. 0. 0. 0. 0. 0. 9.]]\n"
     ]
    }
   ],
   "source": [
    "c[3:-3,3:-3] = j\n",
    "print(c)"
   ]
  },
  {
   "cell_type": "code",
   "execution_count": 30,
   "id": "98406eda",
   "metadata": {},
   "outputs": [
    {
     "name": "stdout",
     "output_type": "stream",
     "text": [
      "[[9. 0. 0. 0. 0. 0. 0. 0. 0. 0.]\n",
      " [0. 9. 1. 1. 1. 1. 1. 1. 1. 0.]\n",
      " [0. 1. 9. 0. 0. 0. 0. 0. 1. 0.]\n",
      " [0. 1. 0. 9. 2. 2. 2. 0. 1. 0.]\n",
      " [0. 1. 0. 2. 9. 0. 2. 0. 1. 0.]\n",
      " [0. 1. 0. 2. 0. 9. 2. 0. 1. 0.]\n",
      " [0. 1. 0. 2. 2. 2. 9. 0. 1. 0.]\n",
      " [0. 1. 0. 0. 0. 0. 0. 9. 1. 0.]\n",
      " [0. 1. 1. 1. 1. 1. 1. 1. 9. 0.]\n",
      " [0. 0. 0. 0. 0. 0. 0. 0. 0. 9.]]\n"
     ]
    }
   ],
   "source": [
    "k = np.identity(2)*9\n",
    "c[4:-4,4:-4] = k\n",
    "print(c)"
   ]
  },
  {
   "cell_type": "markdown",
   "id": "3333caca",
   "metadata": {},
   "source": [
    "## 5.20.4 Copy"
   ]
  },
  {
   "cell_type": "markdown",
   "id": "91f61e52",
   "metadata": {},
   "source": [
    "### Percoban 1 Copy pada Numpy"
   ]
  },
  {
   "cell_type": "code",
   "execution_count": 32,
   "id": "ef4d6ef5",
   "metadata": {},
   "outputs": [
    {
     "name": "stdout",
     "output_type": "stream",
     "text": [
      "[1 2 3 4 5]\n"
     ]
    }
   ],
   "source": [
    "a = np.array([1,2,3,4,5])\n",
    "print(a)\n",
    "\n",
    "#pendefinisian variabel a serta perintah print a"
   ]
  },
  {
   "cell_type": "code",
   "execution_count": 33,
   "id": "28668a67",
   "metadata": {},
   "outputs": [
    {
     "name": "stdout",
     "output_type": "stream",
     "text": [
      "[1 2 3 4 5]\n"
     ]
    }
   ],
   "source": [
    "b = a \n",
    "print(b)\n",
    "\n",
    "#pendefinisian bahwa variabel b sama dengan a kemudian perintah print b"
   ]
  },
  {
   "cell_type": "code",
   "execution_count": 34,
   "id": "f78496d9",
   "metadata": {},
   "outputs": [
    {
     "name": "stdout",
     "output_type": "stream",
     "text": [
      "[10  2  3  4  5]\n"
     ]
    }
   ],
   "source": [
    "b[0] = 10\n",
    "print(b)\n",
    "\n",
    "#perubahan anggota variabel b pertama yang awalnya merupakan angka 1 berubah menjadi angka 10"
   ]
  },
  {
   "cell_type": "code",
   "execution_count": 35,
   "id": "62618400",
   "metadata": {},
   "outputs": [
    {
     "name": "stdout",
     "output_type": "stream",
     "text": [
      "[10  2  3  4  5]\n"
     ]
    }
   ],
   "source": [
    "print(a)\n",
    "\n",
    "#karena variabel a sudah didefinisikan sama dengan variabel b dan mengalami perubahan anggota variabel,\n",
    "#maka ketika dipanggil kembali hasilnya adalah anggota variabel yang baru"
   ]
  },
  {
   "cell_type": "markdown",
   "id": "fda9611b",
   "metadata": {},
   "source": [
    "### Percoban 2 Copy pada Numpy"
   ]
  },
  {
   "cell_type": "code",
   "execution_count": 36,
   "id": "55a76c6c",
   "metadata": {},
   "outputs": [
    {
     "name": "stdout",
     "output_type": "stream",
     "text": [
      "[1 2 3 4 5]\n"
     ]
    }
   ],
   "source": [
    "c = np.array([1,2,3,4,5])\n",
    "print(c)\n",
    "\n",
    "#kita bandingkan dengan menggunakan fungsi copy pada numpy\n",
    "#disini didefinisikan variabel c kemudian perintah print c"
   ]
  },
  {
   "cell_type": "code",
   "execution_count": 37,
   "id": "e83c26e8",
   "metadata": {},
   "outputs": [
    {
     "name": "stdout",
     "output_type": "stream",
     "text": [
      "[1 2 3 4 5]\n"
     ]
    }
   ],
   "source": [
    "d = c.copy()\n",
    "print(d)\n",
    "\n",
    "#disini didefinisikan variabel d merupakan copyan dari variabel c, TANPA mengubah anggota variabel c itu sendiri"
   ]
  },
  {
   "cell_type": "code",
   "execution_count": 38,
   "id": "f4045343",
   "metadata": {},
   "outputs": [
    {
     "name": "stdout",
     "output_type": "stream",
     "text": [
      "[10  2  3  4  5]\n"
     ]
    }
   ],
   "source": [
    "d[0] = 10\n",
    "print(d)\n",
    "\n",
    "#anggota variabel pertama dari d dirubah dari angka 1 menjadi angka 10"
   ]
  },
  {
   "cell_type": "code",
   "execution_count": 39,
   "id": "fdbd15f0",
   "metadata": {},
   "outputs": [
    {
     "name": "stdout",
     "output_type": "stream",
     "text": [
      "[1 2 3 4 5]\n"
     ]
    }
   ],
   "source": [
    "print(c)\n",
    "\n",
    "#karena sebelumnya variabel d hanya mengcopy variabel c tanpa mengubah anggota dari variabel c itu sendiri,\n",
    "#maka ketika dipanggil kembali, anggota dari variabel c tidak ada yang berubah"
   ]
  },
  {
   "cell_type": "markdown",
   "id": "e5c60094",
   "metadata": {},
   "source": [
    "## 5.20.5 Operasi Matematika"
   ]
  },
  {
   "cell_type": "markdown",
   "id": "e31bfe39",
   "metadata": {},
   "source": [
    "### Percobaan 1 Operasi Matematika pada Numpy (1 variabel)"
   ]
  },
  {
   "cell_type": "code",
   "execution_count": 40,
   "id": "d0fb3416",
   "metadata": {},
   "outputs": [
    {
     "data": {
      "text/plain": [
       "array([12,  4,  5,  6,  7])"
      ]
     },
     "execution_count": 40,
     "metadata": {},
     "output_type": "execute_result"
    }
   ],
   "source": [
    "a+2\n",
    "\n",
    "#karena disini tidak didefinisikan variabel a, maka variabel yang digunakan adalah variabel a pada percobaan sebelumnya\n",
    "#penjumlahan sebuah variabel dengan sebuah angka"
   ]
  },
  {
   "cell_type": "code",
   "execution_count": 41,
   "id": "89841723",
   "metadata": {},
   "outputs": [
    {
     "data": {
      "text/plain": [
       "array([8, 0, 1, 2, 3])"
      ]
     },
     "execution_count": 41,
     "metadata": {},
     "output_type": "execute_result"
    }
   ],
   "source": [
    "a-2\n",
    "\n",
    "#pengurangan sebuah variabel dengan sebuah angka"
   ]
  },
  {
   "cell_type": "code",
   "execution_count": 42,
   "id": "ea4bc411",
   "metadata": {},
   "outputs": [
    {
     "data": {
      "text/plain": [
       "array([20,  4,  6,  8, 10])"
      ]
     },
     "execution_count": 42,
     "metadata": {},
     "output_type": "execute_result"
    }
   ],
   "source": [
    "a*2\n",
    "\n",
    "#perkalian sebuah variabel dengan sebuah angka"
   ]
  },
  {
   "cell_type": "code",
   "execution_count": 43,
   "id": "94f24db0",
   "metadata": {},
   "outputs": [
    {
     "data": {
      "text/plain": [
       "array([5. , 1. , 1.5, 2. , 2.5])"
      ]
     },
     "execution_count": 43,
     "metadata": {},
     "output_type": "execute_result"
    }
   ],
   "source": [
    "a/2\n",
    "\n",
    "#pembagian sebuah variabel dengan sebuah angka"
   ]
  },
  {
   "cell_type": "code",
   "execution_count": 44,
   "id": "858b6ac8",
   "metadata": {},
   "outputs": [
    {
     "data": {
      "text/plain": [
       "array([100,   4,   9,  16,  25], dtype=int32)"
      ]
     },
     "execution_count": 44,
     "metadata": {},
     "output_type": "execute_result"
    }
   ],
   "source": [
    "a**2\n",
    "\n",
    "#perpangkatan sebuah variabel dengan sebuah angka"
   ]
  },
  {
   "cell_type": "markdown",
   "id": "75192e93",
   "metadata": {},
   "source": [
    "### Percobaan 2 Operasi Matematika pada Numpy (2 variabel)"
   ]
  },
  {
   "cell_type": "code",
   "execution_count": 45,
   "id": "db83067b",
   "metadata": {},
   "outputs": [
    {
     "name": "stdout",
     "output_type": "stream",
     "text": [
      "[ 6  7  8  9 10]\n"
     ]
    }
   ],
   "source": [
    "b = np.array([6,7,8,9,10])\n",
    "print(b)\n",
    "\n",
    "#didefinisikan variabel b kemudian perintah print b"
   ]
  },
  {
   "cell_type": "code",
   "execution_count": 46,
   "id": "999f9ebf",
   "metadata": {},
   "outputs": [
    {
     "data": {
      "text/plain": [
       "array([16,  9, 11, 13, 15])"
      ]
     },
     "execution_count": 46,
     "metadata": {},
     "output_type": "execute_result"
    }
   ],
   "source": [
    "a+b\n",
    "\n",
    "#penjumlahan dua buah variabel"
   ]
  },
  {
   "cell_type": "code",
   "execution_count": 47,
   "id": "46e63ea1",
   "metadata": {},
   "outputs": [
    {
     "data": {
      "text/plain": [
       "array([ 4, -5, -5, -5, -5])"
      ]
     },
     "execution_count": 47,
     "metadata": {},
     "output_type": "execute_result"
    }
   ],
   "source": [
    "a-b\n",
    "\n",
    "#pengurangan dua buah variabel"
   ]
  },
  {
   "cell_type": "code",
   "execution_count": 48,
   "id": "92679fea",
   "metadata": {},
   "outputs": [
    {
     "data": {
      "text/plain": [
       "array([60, 14, 24, 36, 50])"
      ]
     },
     "execution_count": 48,
     "metadata": {},
     "output_type": "execute_result"
    }
   ],
   "source": [
    "a*b\n",
    "\n",
    "#perkalian dua buah variabel"
   ]
  },
  {
   "cell_type": "code",
   "execution_count": 49,
   "id": "5be77c2c",
   "metadata": {},
   "outputs": [
    {
     "data": {
      "text/plain": [
       "array([1.66666667, 0.28571429, 0.375     , 0.44444444, 0.5       ])"
      ]
     },
     "execution_count": 49,
     "metadata": {},
     "output_type": "execute_result"
    }
   ],
   "source": [
    "a/b\n",
    "\n",
    "#pembagian dua buah variabel"
   ]
  },
  {
   "cell_type": "code",
   "execution_count": 50,
   "id": "129b3773",
   "metadata": {},
   "outputs": [
    {
     "data": {
      "text/plain": [
       "array([60466176,       49,      512,     6561,   100000], dtype=int32)"
      ]
     },
     "execution_count": 50,
     "metadata": {},
     "output_type": "execute_result"
    }
   ],
   "source": [
    "b**a\n",
    "\n",
    "#perpangkatan dua buah variabel"
   ]
  },
  {
   "cell_type": "markdown",
   "id": "006675d6",
   "metadata": {},
   "source": [
    "### Percobaan 3 Operasi Matematika pada Numpy (trigonometri)"
   ]
  },
  {
   "cell_type": "code",
   "execution_count": 51,
   "id": "5ac4c5f2",
   "metadata": {},
   "outputs": [
    {
     "data": {
      "text/plain": [
       "array([-0.83907153, -0.41614684, -0.9899925 , -0.65364362,  0.28366219])"
      ]
     },
     "execution_count": 51,
     "metadata": {},
     "output_type": "execute_result"
    }
   ],
   "source": [
    "np.cos(a)\n",
    "\n",
    "#cos lingkaran dari elemen variabel a"
   ]
  },
  {
   "cell_type": "code",
   "execution_count": 54,
   "id": "aff12aa4",
   "metadata": {},
   "outputs": [
    {
     "data": {
      "text/plain": [
       "array([-0.54402111,  0.90929743,  0.14112001, -0.7568025 , -0.95892427])"
      ]
     },
     "execution_count": 54,
     "metadata": {},
     "output_type": "execute_result"
    }
   ],
   "source": [
    "np.sin(a)\n",
    "\n",
    "#sin lingkaran dari elemen variabel a"
   ]
  },
  {
   "cell_type": "code",
   "execution_count": 52,
   "id": "2d6e485c",
   "metadata": {},
   "outputs": [
    {
     "data": {
      "text/plain": [
       "array([ 0.64836083, -2.18503986, -0.14254654,  1.15782128, -3.38051501])"
      ]
     },
     "execution_count": 52,
     "metadata": {},
     "output_type": "execute_result"
    }
   ],
   "source": [
    "np.tan(a)\n",
    "\n",
    "#tan lingkaran dari elemen variabel a"
   ]
  },
  {
   "cell_type": "code",
   "execution_count": 53,
   "id": "4f89bfa9",
   "metadata": {},
   "outputs": [
    {
     "data": {
      "text/plain": [
       "array([1.10132329e+04, 3.62686041e+00, 1.00178749e+01, 2.72899172e+01,\n",
       "       7.42032106e+01])"
      ]
     },
     "execution_count": 53,
     "metadata": {},
     "output_type": "execute_result"
    }
   ],
   "source": [
    "np.sinh(a)\n",
    "\n",
    "#sin hiperbolik dari unsur variabel a"
   ]
  },
  {
   "cell_type": "code",
   "execution_count": 55,
   "id": "59e224d9",
   "metadata": {},
   "outputs": [
    {
     "data": {
      "text/plain": [
       "array([1.10132329e+04, 3.76219569e+00, 1.00676620e+01, 2.73082328e+01,\n",
       "       7.42099485e+01])"
      ]
     },
     "execution_count": 55,
     "metadata": {},
     "output_type": "execute_result"
    }
   ],
   "source": [
    "np.cosh(a)\n",
    "\n",
    "#cos hiperbolik dari unsur variabel a"
   ]
  },
  {
   "cell_type": "code",
   "execution_count": 56,
   "id": "f2ef4cc3",
   "metadata": {},
   "outputs": [
    {
     "data": {
      "text/plain": [
       "array([1.        , 0.96402758, 0.99505475, 0.9993293 , 0.9999092 ])"
      ]
     },
     "execution_count": 56,
     "metadata": {},
     "output_type": "execute_result"
    }
   ],
   "source": [
    "np.tanh(a)\n",
    "\n",
    "#tan hiperbolik dari unsur variabel a"
   ]
  },
  {
   "cell_type": "code",
   "execution_count": 57,
   "id": "a56d4bcd",
   "metadata": {},
   "outputs": [
    {
     "data": {
      "text/plain": [
       "array([3.16227766, 1.41421356, 1.73205081, 2.        , 2.23606798])"
      ]
     },
     "execution_count": 57,
     "metadata": {},
     "output_type": "execute_result"
    }
   ],
   "source": [
    "np.sqrt(a)\n",
    "\n",
    "#akar kuadrat dari variabel a"
   ]
  },
  {
   "cell_type": "markdown",
   "id": "47fbcf14",
   "metadata": {},
   "source": [
    "## 5.20.6 Perkalian Matrik"
   ]
  },
  {
   "cell_type": "markdown",
   "id": "6a57c143",
   "metadata": {},
   "source": [
    "### Percobaan 1 Perkalian Matrik pada Numpy"
   ]
  },
  {
   "cell_type": "code",
   "execution_count": 58,
   "id": "5ac30b98",
   "metadata": {},
   "outputs": [
    {
     "name": "stdout",
     "output_type": "stream",
     "text": [
      "[[1 2 3 4]\n",
      " [5 6 7 8]]\n"
     ]
    }
   ],
   "source": [
    "a = np.array([[1,2,3,4],[5,6,7,8]])\n",
    "print(a)\n",
    "\n",
    "#pendefinisian matrik a"
   ]
  },
  {
   "cell_type": "code",
   "execution_count": 59,
   "id": "159c5f46",
   "metadata": {},
   "outputs": [
    {
     "name": "stdout",
     "output_type": "stream",
     "text": [
      "[[ 9 10 11 12]\n",
      " [13 14 15 16]]\n"
     ]
    }
   ],
   "source": [
    "b = np.array([[9,10,11,12],[13,14,15,16]])\n",
    "print(b)\n",
    "\n",
    "#pendefinisian matrik b"
   ]
  },
  {
   "cell_type": "code",
   "execution_count": 60,
   "id": "bd69d5db",
   "metadata": {},
   "outputs": [
    {
     "name": "stdout",
     "output_type": "stream",
     "text": [
      "[[  9  20  33  48]\n",
      " [ 65  84 105 128]]\n"
     ]
    }
   ],
   "source": [
    "c = a*b\n",
    "print(c)\n",
    "\n",
    "#perkalian matrik a dan b"
   ]
  },
  {
   "cell_type": "code",
   "execution_count": 65,
   "id": "212eac56",
   "metadata": {},
   "outputs": [
    {
     "ename": "ValueError",
     "evalue": "matmul: Input operand 1 has a mismatch in its core dimension 0, with gufunc signature (n?,k),(k,m?)->(n?,m?) (size 2 is different from 4)",
     "output_type": "error",
     "traceback": [
      "\u001b[1;31m---------------------------------------------------------------------------\u001b[0m",
      "\u001b[1;31mValueError\u001b[0m                                Traceback (most recent call last)",
      "\u001b[1;32m~\\AppData\\Local\\Temp\\ipykernel_30248\\4000991568.py\u001b[0m in \u001b[0;36m<module>\u001b[1;34m\u001b[0m\n\u001b[1;32m----> 1\u001b[1;33m \u001b[0md\u001b[0m \u001b[1;33m=\u001b[0m \u001b[0mnp\u001b[0m\u001b[1;33m.\u001b[0m\u001b[0mmatmul\u001b[0m\u001b[1;33m(\u001b[0m\u001b[0ma\u001b[0m\u001b[1;33m,\u001b[0m\u001b[0mb\u001b[0m\u001b[1;33m)\u001b[0m\u001b[1;33m\u001b[0m\u001b[1;33m\u001b[0m\u001b[0m\n\u001b[0m\u001b[0;32m      2\u001b[0m \u001b[0mprint\u001b[0m\u001b[1;33m(\u001b[0m\u001b[0md\u001b[0m\u001b[1;33m)\u001b[0m\u001b[1;33m\u001b[0m\u001b[1;33m\u001b[0m\u001b[0m\n",
      "\u001b[1;31mValueError\u001b[0m: matmul: Input operand 1 has a mismatch in its core dimension 0, with gufunc signature (n?,k),(k,m?)->(n?,m?) (size 2 is different from 4)"
     ]
    }
   ],
   "source": [
    "d = np.matmul(a,b)\n",
    "print(d)\n",
    "\n",
    "#perkalian matrik menggunakan perintah matmul harus memperhatikan persyaratan\n",
    "#persyaratannya adalah ukuran matrik TIDAK boleh sama\n",
    "#pada kasus ini, ukuran matrik a dan b adalah sama yaitu 2 × 4 sehingga tidak bisa diproses karena tidak sesuai dengan syaratnya"
   ]
  },
  {
   "cell_type": "markdown",
   "id": "78247df8",
   "metadata": {},
   "source": [
    "### Percobaan 2 Perkalian Matrik pada Numpy"
   ]
  },
  {
   "cell_type": "code",
   "execution_count": 62,
   "id": "c0a8b9e0",
   "metadata": {},
   "outputs": [
    {
     "name": "stdout",
     "output_type": "stream",
     "text": [
      "[[ 9 10]\n",
      " [11 12]\n",
      " [13 14]\n",
      " [15 16]]\n"
     ]
    }
   ],
   "source": [
    "e = np.array([[9,10],[11,12],[13,14],[15,16]])\n",
    "print(e)\n",
    "\n",
    "#pendefinisian matrik e"
   ]
  },
  {
   "cell_type": "code",
   "execution_count": 63,
   "id": "8b661720",
   "metadata": {},
   "outputs": [
    {
     "name": "stdout",
     "output_type": "stream",
     "text": [
      "[[130 140]\n",
      " [322 348]]\n"
     ]
    }
   ],
   "source": [
    "f = np.matmul(a,e)\n",
    "print(f)\n",
    "\n",
    "#perkalian matrik menggunakan perintah matmul pada kasus ini berhasil karena sesuai dengan persyaratan\n",
    "#dimana matrik a berukuran 2 × 4 dan matrik e yang berukuran 4 × 2"
   ]
  },
  {
   "cell_type": "markdown",
   "id": "2fd6aa7c",
   "metadata": {},
   "source": [
    "### Percobaan 3 Perkalian Matrik pada Numpy"
   ]
  },
  {
   "cell_type": "code",
   "execution_count": 64,
   "id": "521256f5",
   "metadata": {},
   "outputs": [
    {
     "ename": "ValueError",
     "evalue": "operands could not be broadcast together with shapes (2,4) (4,2) ",
     "output_type": "error",
     "traceback": [
      "\u001b[1;31m---------------------------------------------------------------------------\u001b[0m",
      "\u001b[1;31mValueError\u001b[0m                                Traceback (most recent call last)",
      "\u001b[1;32m~\\AppData\\Local\\Temp\\ipykernel_30248\\2513138200.py\u001b[0m in \u001b[0;36m<module>\u001b[1;34m\u001b[0m\n\u001b[1;32m----> 1\u001b[1;33m \u001b[0mg\u001b[0m \u001b[1;33m=\u001b[0m \u001b[0ma\u001b[0m\u001b[1;33m*\u001b[0m\u001b[0me\u001b[0m\u001b[1;33m\u001b[0m\u001b[1;33m\u001b[0m\u001b[0m\n\u001b[0m",
      "\u001b[1;31mValueError\u001b[0m: operands could not be broadcast together with shapes (2,4) (4,2) "
     ]
    }
   ],
   "source": [
    "g = a*e\n",
    "\n",
    "#berbeda dengan perkalian matrik matmul, maka perkalian matrik biasa merupakan kebalikannya\n",
    "#syarat perkalian matrik biasa adalah ukuran matrik harus SAMA\n",
    "#sehingga dalam kasus ini menghasilkan error karena matrik a dan e memiliki ukuran yang berbeda"
   ]
  },
  {
   "cell_type": "markdown",
   "id": "93438b7d",
   "metadata": {},
   "source": [
    "## 5.20.7 Min, Max dan Sum"
   ]
  },
  {
   "cell_type": "markdown",
   "id": "1cc4191e",
   "metadata": {},
   "source": [
    "### Percobaan 1 Min, Max dan Sum pada Numpy"
   ]
  },
  {
   "cell_type": "code",
   "execution_count": 72,
   "id": "00d943f5",
   "metadata": {},
   "outputs": [
    {
     "name": "stdout",
     "output_type": "stream",
     "text": [
      "[[ 1  2  3  4]\n",
      " [ 5  6  7  8]\n",
      " [ 9 10 11 12]]\n"
     ]
    }
   ],
   "source": [
    "a = np.array([[1,2,3,4],\n",
    "              [5,6,7,8],\n",
    "              [9,10,11,12]])\n",
    "print(a)\n",
    "\n",
    "#pendefinisian variabel a"
   ]
  },
  {
   "cell_type": "code",
   "execution_count": 73,
   "id": "2ef341ad",
   "metadata": {},
   "outputs": [
    {
     "name": "stdout",
     "output_type": "stream",
     "text": [
      "1\n"
     ]
    }
   ],
   "source": [
    "b = np.min(a)\n",
    "print(b)\n",
    "\n",
    "#mencari nilai minimal dari variabel a"
   ]
  },
  {
   "cell_type": "code",
   "execution_count": 74,
   "id": "1670d82a",
   "metadata": {},
   "outputs": [
    {
     "name": "stdout",
     "output_type": "stream",
     "text": [
      "[1 2 3 4]\n"
     ]
    }
   ],
   "source": [
    "c = np.min(a,axis=0)\n",
    "print(c)\n",
    "\n",
    "#axis adalah suatu area dimana data akan di plot\n",
    "#pada kasus ini nilai minimal dari variabel a adalah 1, dan axis=0 menunjukkan baris \n",
    "#sehingga outputnya adalah baris dimana nilai minimal berada"
   ]
  },
  {
   "cell_type": "code",
   "execution_count": 75,
   "id": "3331501d",
   "metadata": {},
   "outputs": [
    {
     "name": "stdout",
     "output_type": "stream",
     "text": [
      "[1 5 9]\n"
     ]
    }
   ],
   "source": [
    "d = np.min(a,axis=1)\n",
    "print(d)\n",
    "\n",
    "#pada kasus ini nilai minimal dari variabel a adalah 1, dan axis=1 menunjukkan kolom \n",
    "#sehingga outputnya adalah kolom dimana nilai minimal berada"
   ]
  },
  {
   "cell_type": "markdown",
   "id": "1e664938",
   "metadata": {},
   "source": [
    "### Percobaan 2 Min, Max dan Sum pada Numpy"
   ]
  },
  {
   "cell_type": "code",
   "execution_count": 76,
   "id": "44039c98",
   "metadata": {},
   "outputs": [
    {
     "name": "stdout",
     "output_type": "stream",
     "text": [
      "12\n"
     ]
    }
   ],
   "source": [
    "e = np.max(a)\n",
    "print(e)\n",
    "\n",
    "#mencari nilai maksimal dari variabel a"
   ]
  },
  {
   "cell_type": "code",
   "execution_count": 77,
   "id": "c78deec7",
   "metadata": {},
   "outputs": [
    {
     "name": "stdout",
     "output_type": "stream",
     "text": [
      "[ 9 10 11 12]\n"
     ]
    }
   ],
   "source": [
    "f = np.max(a,axis=0)\n",
    "print(f)\n",
    "\n",
    "#pada kasus ini nilai maksimal dari variabel a adalah 12, dan axis=0 menunjukkan baris \n",
    "#sehingga outputnya adalah baris dimana nilai maksimal berada"
   ]
  },
  {
   "cell_type": "code",
   "execution_count": 78,
   "id": "77bd0802",
   "metadata": {},
   "outputs": [
    {
     "name": "stdout",
     "output_type": "stream",
     "text": [
      "[ 4  8 12]\n"
     ]
    }
   ],
   "source": [
    "g = np.max(a,axis=1)\n",
    "print(g)\n",
    "\n",
    "#pada kasus ini nilai maksimal dari variabel a adalah 12, dan axis=1 menunjukkan kolom\n",
    "#sehingga outputnya adalah kolom dimana nilai maksimal berada"
   ]
  },
  {
   "cell_type": "markdown",
   "id": "824c5ae8",
   "metadata": {},
   "source": [
    "### Percobaan 3 Min, Max dan Sum pada Numpy"
   ]
  },
  {
   "cell_type": "code",
   "execution_count": 79,
   "id": "17f0a2c4",
   "metadata": {},
   "outputs": [
    {
     "name": "stdout",
     "output_type": "stream",
     "text": [
      "78\n"
     ]
    }
   ],
   "source": [
    "h = np.sum(a)\n",
    "print(h)\n",
    "\n",
    "#menjumlahkan semua elemen dari variabel a"
   ]
  },
  {
   "cell_type": "code",
   "execution_count": 80,
   "id": "27618bcf",
   "metadata": {},
   "outputs": [
    {
     "name": "stdout",
     "output_type": "stream",
     "text": [
      "[15 18 21 24]\n"
     ]
    }
   ],
   "source": [
    "h = np.sum(a,axis=0)\n",
    "print(h)\n",
    "\n",
    "#pada kasus ini elemen dijumlahkan berdasarkan kolom, karena axis=0 menunjukkan kolom\n",
    "#jadi kolom pertama dari tiap baris dijumlahkan, selanjutnya kolom kedua dari tiap baris dijumlahkan, dst sampai kolom terakhir"
   ]
  },
  {
   "cell_type": "code",
   "execution_count": 81,
   "id": "5be0f6c6",
   "metadata": {},
   "outputs": [
    {
     "name": "stdout",
     "output_type": "stream",
     "text": [
      "[10 26 42]\n"
     ]
    }
   ],
   "source": [
    "i = np.sum(a,axis=1)\n",
    "print(i)\n",
    "\n",
    "#pada kasus ini elemen dijumlahkan berdasarkan baris, karena axis=1 menunjukkan baris\n",
    "#jadi baris pertama dijumlahkan, selanjutnya baris kedua dijumlahkan, dst sampai baris terakhir"
   ]
  }
 ],
 "metadata": {
  "kernelspec": {
   "display_name": "Python 3 (ipykernel)",
   "language": "python",
   "name": "python3"
  },
  "language_info": {
   "codemirror_mode": {
    "name": "ipython",
    "version": 3
   },
   "file_extension": ".py",
   "mimetype": "text/x-python",
   "name": "python",
   "nbconvert_exporter": "python",
   "pygments_lexer": "ipython3",
   "version": "3.9.13"
  }
 },
 "nbformat": 4,
 "nbformat_minor": 5
}
