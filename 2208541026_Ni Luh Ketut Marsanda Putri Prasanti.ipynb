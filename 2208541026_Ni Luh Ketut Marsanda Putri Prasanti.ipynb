{
 "cells": [
  {
   "cell_type": "code",
   "execution_count": 1,
   "id": "c0cfb5ab",
   "metadata": {},
   "outputs": [
    {
     "name": "stdout",
     "output_type": "stream",
     "text": [
      "Ini kelas Algoritma!\n"
     ]
    }
   ],
   "source": [
    "print('Ini kelas Algoritma!')"
   ]
  },
  {
   "cell_type": "code",
   "execution_count": 2,
   "id": "f80f3982",
   "metadata": {},
   "outputs": [
    {
     "name": "stdout",
     "output_type": "stream",
     "text": [
      "Ini kelas Algoritma!\n"
     ]
    }
   ],
   "source": [
    "print(\"Ini kelas Algoritma!\")"
   ]
  },
  {
   "cell_type": "code",
   "execution_count": 3,
   "id": "39990b95",
   "metadata": {},
   "outputs": [
    {
     "ename": "SyntaxError",
     "evalue": "invalid syntax (1250528077.py, line 1)",
     "output_type": "error",
     "traceback": [
      "\u001b[1;36m  File \u001b[1;32m\"C:\\Users\\62819\\AppData\\Local\\Temp\\ipykernel_34036\\1250528077.py\"\u001b[1;36m, line \u001b[1;32m1\u001b[0m\n\u001b[1;33m    print(Ini kelas Algoritma!)\u001b[0m\n\u001b[1;37m              ^\u001b[0m\n\u001b[1;31mSyntaxError\u001b[0m\u001b[1;31m:\u001b[0m invalid syntax\n"
     ]
    }
   ],
   "source": [
    "print(Ini kelas Algoritma!)\n",
    "#Dalam menggunakan program print, kita harus menggunakan tanda petik, baik itu tanda petik satu maupun petik dua.\n",
    "#Jika tidak menggunakan tanda petik, maka hasilnya akan error seperti ini."
   ]
  },
  {
   "cell_type": "code",
   "execution_count": 4,
   "id": "8c0ce93d",
   "metadata": {},
   "outputs": [
    {
     "ename": "SyntaxError",
     "evalue": "EOL while scanning string literal (1981689615.py, line 1)",
     "output_type": "error",
     "traceback": [
      "\u001b[1;36m  File \u001b[1;32m\"C:\\Users\\62819\\AppData\\Local\\Temp\\ipykernel_34036\\1981689615.py\"\u001b[1;36m, line \u001b[1;32m1\u001b[0m\n\u001b[1;33m    print(\"Ini kelas Algoritma!')\u001b[0m\n\u001b[1;37m                                 ^\u001b[0m\n\u001b[1;31mSyntaxError\u001b[0m\u001b[1;31m:\u001b[0m EOL while scanning string literal\n"
     ]
    }
   ],
   "source": [
    "print(\"Ini kelas Algoritma!')\n",
    "#Tanda petik yang digunakan pun harus sesuai dengan pasangannya, tidak boleh seperti ini.\n",
    "#Dimana yang satu menggunakan petik dua dan lainnya menggunakan petik satu.\n",
    "#Jika seperti ini maka akan menghasilkan error."
   ]
  },
  {
   "cell_type": "code",
   "execution_count": 5,
   "id": "e5f03bb7",
   "metadata": {},
   "outputs": [
    {
     "ename": "SyntaxError",
     "evalue": "invalid syntax (39863903.py, line 1)",
     "output_type": "error",
     "traceback": [
      "\u001b[1;36m  File \u001b[1;32m\"C:\\Users\\62819\\AppData\\Local\\Temp\\ipykernel_34036\\39863903.py\"\u001b[1;36m, line \u001b[1;32m1\u001b[0m\n\u001b[1;33m    print('I don't understant what are you saying')\u001b[0m\n\u001b[1;37m                 ^\u001b[0m\n\u001b[1;31mSyntaxError\u001b[0m\u001b[1;31m:\u001b[0m invalid syntax\n"
     ]
    }
   ],
   "source": [
    "print('I don't understant what are you saying.')\n",
    "#Pada kasus ini, walaupun sudah menggunakan tanda petik yang sama, namun hasilnya tetap error.\n",
    "#Hal ini dikarenakan tanda petik itu memiliki tepat satu pasangan.\n",
    "#Dan karena pada kasus ini terdapat 3 tanda petik yang serupa, \n",
    "#maka komputer tidak dapat mendeteksi pasangan tanda petik tersebut."
   ]
  },
  {
   "cell_type": "code",
   "execution_count": 6,
   "id": "4f613410",
   "metadata": {},
   "outputs": [
    {
     "name": "stdout",
     "output_type": "stream",
     "text": [
      "I don't understant what are you saying.\n"
     ]
    }
   ],
   "source": [
    "print(\"I don't understant what are you saying.\")\n",
    "#Kita dapat mengakalinya dengan menggunakan tanda petik yang berbeda sehingga hasilnya pun sesuai."
   ]
  },
  {
   "cell_type": "code",
   "execution_count": 7,
   "id": "f5b8ade5",
   "metadata": {},
   "outputs": [
    {
     "name": "stdout",
     "output_type": "stream",
     "text": [
      "Hari ini saya menggunakan Python,\n",
      "karena saya ingin belajar Algoritma.\n"
     ]
    }
   ],
   "source": [
    "print(\"Hari ini saya menggunakan Python,\")\n",
    "print(\"karena saya ingin belajar Algoritma.\")\n",
    "#Jika kita ingin membuat dua kalimat pada baris yang berbeda, kita dapat mengakalinya dengan menggunakan print dua kali."
   ]
  },
  {
   "cell_type": "code",
   "execution_count": 8,
   "id": "43e84593",
   "metadata": {},
   "outputs": [
    {
     "name": "stdout",
     "output_type": "stream",
     "text": [
      "Angga Saputra\n"
     ]
    }
   ],
   "source": [
    "nama_depan = 'Angga'\n",
    "nama_tengah = ' '\n",
    "nama_belakang = 'Saputra'\n",
    "print(nama_depan+nama_tengah+nama_belakang)\n",
    "#Untuk membuat spasi diantara nama depan dan nama belakang, kita dapat mengakalinya dengan menambah nama tengah yaitu spasi."
   ]
  },
  {
   "cell_type": "code",
   "execution_count": 9,
   "id": "1c991b33",
   "metadata": {},
   "outputs": [
    {
     "name": "stdout",
     "output_type": "stream",
     "text": [
      "Angga Saputra\n"
     ]
    }
   ],
   "source": [
    "nama_depan = 'Angga'\n",
    "nama_belakang = 'Saputra'\n",
    "print(nama_depan+' '+nama_belakang)\n",
    "#Atau bisa juga dengan membuat program seperti ini dimana kita menambahkan spasi pada program print.\n",
    "#Panjang tanda spasi ketika kita menggunakan program ini juga tak berhingga."
   ]
  },
  {
   "cell_type": "code",
   "execution_count": 10,
   "id": "c43740bb",
   "metadata": {},
   "outputs": [
    {
     "name": "stdout",
     "output_type": "stream",
     "text": [
      "Angga                                  Saputra\n"
     ]
    }
   ],
   "source": [
    "nama_depan = 'Angga'\n",
    "nama_belakang = 'Saputra'\n",
    "print(nama_depan+'                                  '+nama_belakang)\n",
    "#Misalnya kita ingin spasi yang sangat panjang antara nama depan dan nama belakang,\n",
    "#maka kita tinggal menambahkan spasi yang banyak saja. "
   ]
  },
  {
   "cell_type": "code",
   "execution_count": 11,
   "id": "cfff6f5d",
   "metadata": {},
   "outputs": [
    {
     "name": "stdout",
     "output_type": "stream",
     "text": [
      "Angga Saputra\n"
     ]
    }
   ],
   "source": [
    "nama_depan = 'Angga'\n",
    "nama_belakang = 'Saputra'\n",
    "print(nama_depan+\" \"+nama_belakang)\n",
    "#Tanda petik untuk penambahan spasi juga tidak harus menggunakan tanda petik satu, melainkan dapat menggunakan tanda petik dua."
   ]
  },
  {
   "cell_type": "code",
   "execution_count": 12,
   "id": "72658527",
   "metadata": {},
   "outputs": [
    {
     "name": "stdout",
     "output_type": "stream",
     "text": [
      "Ni Luh Ketut Marsanda Putri Prasanti\n"
     ]
    }
   ],
   "source": [
    "nama = 'Ni Luh Ketut Marsanda Putri Prasanti'\n",
    "print(nama)\n",
    "#Kita juga dapat membuat program seperti ini untuk mempermudah mengetikkan nama yang sangat panjang.\n",
    "#Jadi saat kita akan menggunakan program print, maka kita dapat memanggil satu variabel saja."
   ]
  },
  {
   "cell_type": "code",
   "execution_count": 13,
   "id": "d0bdc382",
   "metadata": {},
   "outputs": [
    {
     "name": "stdout",
     "output_type": "stream",
     "text": [
      "Input nama anda : Marsanda\n",
      "Selamat pagi      Marsanda\n"
     ]
    }
   ],
   "source": [
    "nama = input(\"Input nama anda : \")\n",
    "print(\"Selamat pagi\"+\"      \"+nama)\n",
    "#Pada kasus ini, kita dapat memanggil output sesuai dengan keinginan kita.\n",
    "#Tidak melulu jika kita memanggil nama, maka akan keluar nama."
   ]
  },
  {
   "cell_type": "code",
   "execution_count": 16,
   "id": "948703cc",
   "metadata": {},
   "outputs": [
    {
     "name": "stdout",
     "output_type": "stream",
     "text": [
      "Input nama anda : Putri\n",
      "Selamat pagi, Putri!\n"
     ]
    }
   ],
   "source": [
    "nama = input(\"Input nama anda : \")\n",
    "print(\"Selamat pagi, \"+nama+'!')\n",
    "#Kita juga dapat menambahkan tanda baca pada output sesuai keinginan kita."
   ]
  },
  {
   "cell_type": "code",
   "execution_count": 18,
   "id": "a900b255",
   "metadata": {},
   "outputs": [
    {
     "name": "stdout",
     "output_type": "stream",
     "text": [
      "Siapakah nama Anda? Marsanda\n",
      "Apakah kegiatan Anda sekarang, Marsanda? belajar Algoritma\n",
      "Semangat belajar Algoritmanya yah Marsanda!\n"
     ]
    }
   ],
   "source": [
    "nama = input('Siapakah nama Anda? ')\n",
    "kegiatan = input('Apakah kegiatan Anda sekarang, '+nama+'?'+' ')\n",
    "print('Semangat'+' '+kegiatan+'nya yah'+' '+nama+'!')\n",
    "#Di sini kita dapat menambahkan beberapa kata untuk menghasilkan output yang diinginkan."
   ]
  },
  {
   "cell_type": "code",
   "execution_count": 19,
   "id": "c728a4db",
   "metadata": {},
   "outputs": [
    {
     "ename": "SyntaxError",
     "evalue": "invalid syntax (2838735695.py, line 2)",
     "output_type": "error",
     "traceback": [
      "\u001b[1;36m  File \u001b[1;32m\"C:\\Users\\62819\\AppData\\Local\\Temp\\ipykernel_34036\\2838735695.py\"\u001b[1;36m, line \u001b[1;32m2\u001b[0m\n\u001b[1;33m    uang di dompet = 100000\u001b[0m\n\u001b[1;37m         ^\u001b[0m\n\u001b[1;31mSyntaxError\u001b[0m\u001b[1;31m:\u001b[0m invalid syntax\n"
     ]
    }
   ],
   "source": [
    "mahasiswa = 54\n",
    "uang di dompet = 100000\n",
    "print(mahasiswa)\n",
    "print(uang di dompet)\n",
    "print(mahasiswa*uang di dompet) \n",
    "#Di sini untuk mendeskripsikan sesuatu tidak boleh menggunakan spasi karena akan terjadi error.\n",
    "#Sehingga untuk itu, kita dapat menggunakan tanda underscore."
   ]
  },
  {
   "cell_type": "code",
   "execution_count": 22,
   "id": "489cb345",
   "metadata": {},
   "outputs": [
    {
     "name": "stdout",
     "output_type": "stream",
     "text": [
      "54\n",
      "100.0\n",
      "5400.0\n"
     ]
    }
   ],
   "source": [
    "mahasiswa = 54\n",
    "uang_di_dompet = 100.000\n",
    "print(mahasiswa)\n",
    "print(uang_di_dompet)\n",
    "print(mahasiswa*uang_di_dompet) \n",
    "#Ketika kita menggunakan tanda titik untuk memperlihatkan jumlah ribuan pada angka, \n",
    "#maka komputer secara otomatis akan menerjemahkannya dalam bentuk koma."
   ]
  },
  {
   "cell_type": "code",
   "execution_count": 31,
   "id": "630fda56",
   "metadata": {},
   "outputs": [
    {
     "name": "stdout",
     "output_type": "stream",
     "text": [
      "54\n",
      "100\n",
      "5400\n"
     ]
    }
   ],
   "source": [
    "mahasiswa = 54\n",
    "uang_di_dompet = 100;000\n",
    "print(mahasiswa)\n",
    "print(uang_di_dompet)\n",
    "print(mahasiswa*uang_di_dompet) \n",
    "#Namun ketika kita menggunakan tanda koma untuk memperlihatkan jumlah ribuan pada angka, maka hasilnya akan error.\n",
    "#Begitupula ketika kita menggunakan tanda titik dua pada angka, maka hasilnya akan error.\n",
    "#Dan ketika menggunakan tanda titik koma, maka komputer hanya dapat membaca angka sebelum tanda titik koma tersebut."
   ]
  },
  {
   "cell_type": "code",
   "execution_count": 25,
   "id": "d8e0a75e",
   "metadata": {},
   "outputs": [
    {
     "name": "stdout",
     "output_type": "stream",
     "text": [
      "Uang di dompet saya adalah 20000\n",
      "Uang tabungan saya di bank adalah 30000\n"
     ]
    },
    {
     "ename": "TypeError",
     "evalue": "can only concatenate str (not \"int\") to str",
     "output_type": "error",
     "traceback": [
      "\u001b[1;31m---------------------------------------------------------------------------\u001b[0m",
      "\u001b[1;31mTypeError\u001b[0m                                 Traceback (most recent call last)",
      "\u001b[1;32m~\\AppData\\Local\\Temp\\ipykernel_34036\\3595587510.py\u001b[0m in \u001b[0;36m<module>\u001b[1;34m\u001b[0m\n\u001b[0;32m      2\u001b[0m \u001b[0mtabungan\u001b[0m \u001b[1;33m=\u001b[0m \u001b[0minput\u001b[0m\u001b[1;33m(\u001b[0m\u001b[1;34m'Uang tabungan saya di bank adalah '\u001b[0m\u001b[1;33m)\u001b[0m\u001b[1;33m\u001b[0m\u001b[1;33m\u001b[0m\u001b[0m\n\u001b[0;32m      3\u001b[0m \u001b[0mtotal\u001b[0m \u001b[1;33m=\u001b[0m \u001b[0mint\u001b[0m\u001b[1;33m(\u001b[0m\u001b[0mdompet\u001b[0m\u001b[1;33m)\u001b[0m \u001b[1;33m+\u001b[0m \u001b[0mint\u001b[0m\u001b[1;33m(\u001b[0m\u001b[0mtabungan\u001b[0m\u001b[1;33m)\u001b[0m\u001b[1;33m\u001b[0m\u001b[1;33m\u001b[0m\u001b[0m\n\u001b[1;32m----> 4\u001b[1;33m \u001b[0mprint\u001b[0m\u001b[1;33m(\u001b[0m\u001b[1;34m'Total uang saya adalah '\u001b[0m\u001b[1;33m+\u001b[0m \u001b[0mint\u001b[0m\u001b[1;33m(\u001b[0m\u001b[0mtotal\u001b[0m\u001b[1;33m)\u001b[0m\u001b[1;33m)\u001b[0m\u001b[1;33m\u001b[0m\u001b[1;33m\u001b[0m\u001b[0m\n\u001b[0m",
      "\u001b[1;31mTypeError\u001b[0m: can only concatenate str (not \"int\") to str"
     ]
    }
   ],
   "source": [
    "dompet = input('Uang di dompet saya adalah ')\n",
    "tabungan = input('Uang tabungan saya di bank adalah ')\n",
    "total = int(dompet) + int(tabungan)\n",
    "print('Total uang saya adalah '+ int(total))\n",
    "#Terjadi error pada kasus ini karena tipe data untuk output total tidak bisa menggunakan tipe data int.\n",
    "#Untuk mengatasi hal itu, kita dapat mengguanakan str untuk tipe data pada total uang."
   ]
  },
  {
   "cell_type": "code",
   "execution_count": 32,
   "id": "9f804e3a",
   "metadata": {},
   "outputs": [
    {
     "name": "stdout",
     "output_type": "stream",
     "text": [
      "Uang di dompet saya adalah 10.000\n",
      "Uang tabungan saya di bank adalah 20.000\n"
     ]
    },
    {
     "ename": "ValueError",
     "evalue": "invalid literal for int() with base 10: '10.000'",
     "output_type": "error",
     "traceback": [
      "\u001b[1;31m---------------------------------------------------------------------------\u001b[0m",
      "\u001b[1;31mValueError\u001b[0m                                Traceback (most recent call last)",
      "\u001b[1;32m~\\AppData\\Local\\Temp\\ipykernel_34036\\1859123181.py\u001b[0m in \u001b[0;36m<module>\u001b[1;34m\u001b[0m\n\u001b[0;32m      1\u001b[0m \u001b[0mdompet\u001b[0m \u001b[1;33m=\u001b[0m \u001b[0minput\u001b[0m\u001b[1;33m(\u001b[0m\u001b[1;34m'Uang di dompet saya adalah '\u001b[0m\u001b[1;33m)\u001b[0m\u001b[1;33m\u001b[0m\u001b[1;33m\u001b[0m\u001b[0m\n\u001b[0;32m      2\u001b[0m \u001b[0mtabungan\u001b[0m \u001b[1;33m=\u001b[0m \u001b[0minput\u001b[0m\u001b[1;33m(\u001b[0m\u001b[1;34m'Uang tabungan saya di bank adalah '\u001b[0m\u001b[1;33m)\u001b[0m\u001b[1;33m\u001b[0m\u001b[1;33m\u001b[0m\u001b[0m\n\u001b[1;32m----> 3\u001b[1;33m \u001b[0mtotal\u001b[0m \u001b[1;33m=\u001b[0m \u001b[0mint\u001b[0m\u001b[1;33m(\u001b[0m\u001b[0mdompet\u001b[0m\u001b[1;33m)\u001b[0m \u001b[1;33m+\u001b[0m \u001b[0mint\u001b[0m\u001b[1;33m(\u001b[0m\u001b[0mtabungan\u001b[0m\u001b[1;33m)\u001b[0m\u001b[1;33m\u001b[0m\u001b[1;33m\u001b[0m\u001b[0m\n\u001b[0m\u001b[0;32m      4\u001b[0m \u001b[0mprint\u001b[0m\u001b[1;33m(\u001b[0m\u001b[1;34m'Total uang saya adalah '\u001b[0m\u001b[1;33m+\u001b[0m \u001b[0mstr\u001b[0m\u001b[1;33m(\u001b[0m\u001b[0mtotal\u001b[0m\u001b[1;33m)\u001b[0m\u001b[1;33m)\u001b[0m\u001b[1;33m\u001b[0m\u001b[1;33m\u001b[0m\u001b[0m\n",
      "\u001b[1;31mValueError\u001b[0m: invalid literal for int() with base 10: '10.000'"
     ]
    }
   ],
   "source": [
    "dompet = input('Uang di dompet saya adalah ')\n",
    "tabungan = input('Uang tabungan saya di bank adalah ')\n",
    "total = int(dompet) + int(tabungan)\n",
    "print('Total uang saya adalah '+ str(total))\n",
    "#Ketika kita menambahkan tanda titik pada angka untuk menunjukkan jumlah ribuan dengan menggunakan tipe data int,\n",
    "#maka komputer tidak dapat memproses karena tipe data int hanya untuk bilangan bulat.\n",
    "#Sedangkan seperti pada percobaan sebelumnya, tanda titik akan secara otomatis dibaca sebagai tanda koma oleh komputer."
   ]
  },
  {
   "cell_type": "code",
   "execution_count": 34,
   "id": "ca0923ed",
   "metadata": {},
   "outputs": [
    {
     "name": "stdout",
     "output_type": "stream",
     "text": [
      "Uang di dompet saya adalah 10.000\n",
      "Uang tabungan saya di bank adalah 20.000\n",
      "Total uang saya adalah 30.0\n"
     ]
    }
   ],
   "source": [
    "dompet = input('Uang di dompet saya adalah ')\n",
    "tabungan = input('Uang tabungan saya di bank adalah ')\n",
    "total = float(dompet) + float(tabungan)\n",
    "print('Total uang saya adalah '+ str(total))\n",
    "#Kita juga dapat menggunakan tipe data float, namun output yang dihasilkan akan berupa bilangan desimal.\n",
    "#Dan ketika kita menggunakan tanda titik untuk menunjukkan bilangan ribuan pada angka dengan tipe data float,\n",
    "#maka secara otomatis juga angka tersebut dibaca sebagai bilangan desimal sehingga output yang dihasilkan juga berupa desimal."
   ]
  },
  {
   "cell_type": "code",
   "execution_count": 35,
   "id": "49aa9675",
   "metadata": {},
   "outputs": [
    {
     "name": "stdout",
     "output_type": "stream",
     "text": [
      "Uang di dompet saya adalah 10,000\n",
      "Uang tabungan saya di bank adalah 20,000\n"
     ]
    },
    {
     "ename": "ValueError",
     "evalue": "could not convert string to float: '10,000'",
     "output_type": "error",
     "traceback": [
      "\u001b[1;31m---------------------------------------------------------------------------\u001b[0m",
      "\u001b[1;31mValueError\u001b[0m                                Traceback (most recent call last)",
      "\u001b[1;32m~\\AppData\\Local\\Temp\\ipykernel_34036\\1985910970.py\u001b[0m in \u001b[0;36m<module>\u001b[1;34m\u001b[0m\n\u001b[0;32m      1\u001b[0m \u001b[0mdompet\u001b[0m \u001b[1;33m=\u001b[0m \u001b[0minput\u001b[0m\u001b[1;33m(\u001b[0m\u001b[1;34m'Uang di dompet saya adalah '\u001b[0m\u001b[1;33m)\u001b[0m\u001b[1;33m\u001b[0m\u001b[1;33m\u001b[0m\u001b[0m\n\u001b[0;32m      2\u001b[0m \u001b[0mtabungan\u001b[0m \u001b[1;33m=\u001b[0m \u001b[0minput\u001b[0m\u001b[1;33m(\u001b[0m\u001b[1;34m'Uang tabungan saya di bank adalah '\u001b[0m\u001b[1;33m)\u001b[0m\u001b[1;33m\u001b[0m\u001b[1;33m\u001b[0m\u001b[0m\n\u001b[1;32m----> 3\u001b[1;33m \u001b[0mtotal\u001b[0m \u001b[1;33m=\u001b[0m \u001b[0mfloat\u001b[0m\u001b[1;33m(\u001b[0m\u001b[0mdompet\u001b[0m\u001b[1;33m)\u001b[0m \u001b[1;33m+\u001b[0m \u001b[0mfloat\u001b[0m\u001b[1;33m(\u001b[0m\u001b[0mtabungan\u001b[0m\u001b[1;33m)\u001b[0m\u001b[1;33m\u001b[0m\u001b[1;33m\u001b[0m\u001b[0m\n\u001b[0m\u001b[0;32m      4\u001b[0m \u001b[0mprint\u001b[0m\u001b[1;33m(\u001b[0m\u001b[1;34m'Total uang saya adalah '\u001b[0m\u001b[1;33m+\u001b[0m \u001b[0mstr\u001b[0m\u001b[1;33m(\u001b[0m\u001b[0mtotal\u001b[0m\u001b[1;33m)\u001b[0m\u001b[1;33m)\u001b[0m\u001b[1;33m\u001b[0m\u001b[1;33m\u001b[0m\u001b[0m\n",
      "\u001b[1;31mValueError\u001b[0m: could not convert string to float: '10,000'"
     ]
    }
   ],
   "source": [
    "dompet = input('Uang di dompet saya adalah ')\n",
    "tabungan = input('Uang tabungan saya di bank adalah ')\n",
    "total = float(dompet) + float(tabungan)\n",
    "print('Total uang saya adalah '+ str(total))\n",
    "#Seperti pada percobaan sebelumnya, tanda koma pada angka akan menghasilkan error."
   ]
  },
  {
   "cell_type": "code",
   "execution_count": 36,
   "id": "925113d6",
   "metadata": {},
   "outputs": [
    {
     "data": {
      "text/plain": [
       "str"
      ]
     },
     "execution_count": 36,
     "metadata": {},
     "output_type": "execute_result"
    }
   ],
   "source": [
    "type(dompet)"
   ]
  },
  {
   "cell_type": "code",
   "execution_count": 37,
   "id": "c622ef84",
   "metadata": {},
   "outputs": [
    {
     "data": {
      "text/plain": [
       "str"
      ]
     },
     "execution_count": 37,
     "metadata": {},
     "output_type": "execute_result"
    }
   ],
   "source": [
    "type(tabungan)"
   ]
  },
  {
   "cell_type": "code",
   "execution_count": 38,
   "id": "e1f287a8",
   "metadata": {},
   "outputs": [
    {
     "data": {
      "text/plain": [
       "float"
      ]
     },
     "execution_count": 38,
     "metadata": {},
     "output_type": "execute_result"
    }
   ],
   "source": [
    "type(total)\n",
    "#Kode ini untuk mmenunjukkan tipe data apa yang kita gunakan pada variabel yang diminta."
   ]
  },
  {
   "cell_type": "code",
   "execution_count": 41,
   "id": "ac336d79",
   "metadata": {},
   "outputs": [
    {
     "name": "stdout",
     "output_type": "stream",
     "text": [
      "Masukkan bilangan pertama: 8.000\n",
      "Masukkan bilangan kedua: 9.000\n",
      "Jumlah kedua bilangan adalah 17.0\n"
     ]
    }
   ],
   "source": [
    "bilangan_satu = input('Masukkan bilangan pertama: ')\n",
    "bilangan_kedua = input('Masukkan bilangan kedua: ')\n",
    "jumlah = float(bilangan_satu)+float(bilangan_kedua)\n",
    "print('Jumlah kedua bilangan adalah '+str(jumlah))\n",
    "#Tanda + digunakan untuk penjumlahan ataupun menambahkan perintah baru.\n",
    "#Tanda * digunakan untuk perkalian."
   ]
  },
  {
   "cell_type": "code",
   "execution_count": 43,
   "id": "e4d71692",
   "metadata": {},
   "outputs": [
    {
     "name": "stdout",
     "output_type": "stream",
     "text": [
      "Vladimir adalah seorang guru di SD Pertiwi.\n"
     ]
    }
   ],
   "source": [
    "nama = 'Vladimir'\n",
    "pekerjaan = 'guru'\n",
    "institusi = 'SD Pertiwi'\n",
    "print(nama+' adalah seorang '+pekerjaan+' di '+institusi+'.')\n",
    "#Untuk menambahkan tanda spasi, kita dapat mengakalinya dengan cara ketika akan menambahkan beberapa kata pada perintah print,\n",
    "#maka kita dapat menambahkan spasi di dalam kata/kalimat tersebut seperti contoh di atas."
   ]
  },
  {
   "cell_type": "code",
   "execution_count": 44,
   "id": "20203b0e",
   "metadata": {},
   "outputs": [
    {
     "name": "stdout",
     "output_type": "stream",
     "text": [
      "Vladimir adalah seorang guru di SD Pertiwi.\n"
     ]
    }
   ],
   "source": [
    "print(f'{nama} adalah seorang {pekerjaan} di {institusi}.')\n",
    "#Program ini digunakan untuk mempermudah penulisan nilai variabel yang ingin dicetak."
   ]
  },
  {
   "cell_type": "code",
   "execution_count": 45,
   "id": "681dc354",
   "metadata": {},
   "outputs": [
    {
     "ename": "SyntaxError",
     "evalue": "invalid syntax (3733429172.py, line 1)",
     "output_type": "error",
     "traceback": [
      "\u001b[1;36m  File \u001b[1;32m\"C:\\Users\\62819\\AppData\\Local\\Temp\\ipykernel_34036\\3733429172.py\"\u001b[1;36m, line \u001b[1;32m1\u001b[0m\n\u001b[1;33m    print(f{nama} adalah seorang {pekerjaan} di {institusi}.)\u001b[0m\n\u001b[1;37m           ^\u001b[0m\n\u001b[1;31mSyntaxError\u001b[0m\u001b[1;31m:\u001b[0m invalid syntax\n"
     ]
    }
   ],
   "source": [
    "print(f{nama} adalah seorang {pekerjaan} di {institusi}.)\n",
    "#Untuk menjalankan program Formatted String ini, kita tetap harus menggunakan tanda petik baik itu petik dua maupun petik satu.\n",
    "#Karena jika tidak menggunakan tanda petik, maka hasilnya akan error seperti ini."
   ]
  },
  {
   "cell_type": "code",
   "execution_count": 46,
   "id": "0e29c6da",
   "metadata": {},
   "outputs": [
    {
     "name": "stdout",
     "output_type": "stream",
     "text": [
      "[nama] adalah seorang guru di SD Pertiwi.\n"
     ]
    }
   ],
   "source": [
    "print(f'[nama] adalah seorang {pekerjaan} di {institusi}.')\n",
    "#Ketika kita menggunakan tanda kurung siku pada salah satu variabel, maka akan menghasilkan output seperti di bawah ini."
   ]
  },
  {
   "cell_type": "code",
   "execution_count": 47,
   "id": "6470cc28",
   "metadata": {},
   "outputs": [
    {
     "name": "stdout",
     "output_type": "stream",
     "text": [
      "[nama] adalah seorang [pekerjaan] di [institusi].\n"
     ]
    }
   ],
   "source": [
    "print(f'[nama] adalah seorang [pekerjaan] di [institusi].')\n",
    "#Dan walaupun kita menggunakan tanda kurung siku pada seluruh variabel, hasilnya pun akan tetap sama seperti sebelumnya."
   ]
  },
  {
   "cell_type": "code",
   "execution_count": 48,
   "id": "8b1c388d",
   "metadata": {},
   "outputs": [
    {
     "name": "stdout",
     "output_type": "stream",
     "text": [
      "(nama) adalah seorang guru di SD Pertiwi.\n"
     ]
    }
   ],
   "source": [
    "print(f'(nama) adalah seorang {pekerjaan} di {institusi}.')"
   ]
  },
  {
   "cell_type": "code",
   "execution_count": 50,
   "id": "9bc49475",
   "metadata": {},
   "outputs": [
    {
     "name": "stdout",
     "output_type": "stream",
     "text": [
      "(nama) adalah seorang (pekerjaan) di (institusi).\n"
     ]
    }
   ],
   "source": [
    "print(f'(nama) adalah seorang (pekerjaan) di (institusi).')\n",
    "#Begitupula halnya ketika kita menggunakan tanda kurung biasa pada satu atau setiap variabel, \n",
    "#maka akan menghasilkan output seperti di bawah ini.\n",
    "\n",
    "#Sehingga dapat disimpulkan bahwa dalam menggunakan program Formatted String ini, \n",
    "#kita tidak boleh menggunakan tanda kurung lainnya selain tanda kurung kurawal."
   ]
  },
  {
   "cell_type": "code",
   "execution_count": null,
   "id": "6e18ddef",
   "metadata": {},
   "outputs": [],
   "source": []
  }
 ],
 "metadata": {
  "kernelspec": {
   "display_name": "Python 3 (ipykernel)",
   "language": "python",
   "name": "python3"
  },
  "language_info": {
   "codemirror_mode": {
    "name": "ipython",
    "version": 3
   },
   "file_extension": ".py",
   "mimetype": "text/x-python",
   "name": "python",
   "nbconvert_exporter": "python",
   "pygments_lexer": "ipython3",
   "version": "3.9.13"
  }
 },
 "nbformat": 4,
 "nbformat_minor": 5
}
